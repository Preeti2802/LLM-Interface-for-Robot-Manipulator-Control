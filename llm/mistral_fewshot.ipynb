{
  "cells": [
    {
      "cell_type": "code",
      "execution_count": 1,
      "metadata": {
        "colab": {
          "base_uri": "https://localhost:8080/"
        },
        "id": "Rt0rnCJYJN3J",
        "outputId": "23b0c3e1-be68-4268-be80-dc091820b714"
      },
      "outputs": [
        {
          "name": "stdout",
          "output_type": "stream",
          "text": [
            "Defaulting to user installation because normal site-packages is not writeable\n",
            "Collecting mistralai\n",
            "  Downloading mistralai-0.1.8-py3-none-any.whl.metadata (1.8 kB)\n",
            "Collecting httpx<0.26.0,>=0.25.2 (from mistralai)\n",
            "  Downloading httpx-0.25.2-py3-none-any.whl.metadata (6.9 kB)\n",
            "Requirement already satisfied: orjson<4.0.0,>=3.9.10 in c:\\users\\lenovo\\appdata\\roaming\\python\\python311\\site-packages (from mistralai) (3.9.15)\n",
            "Requirement already satisfied: pydantic<3.0.0,>=2.5.2 in c:\\users\\lenovo\\appdata\\roaming\\python\\python311\\site-packages (from mistralai) (2.6.4)\n",
            "Requirement already satisfied: anyio in c:\\users\\lenovo\\appdata\\roaming\\python\\python311\\site-packages (from httpx<0.26.0,>=0.25.2->mistralai) (4.3.0)\n",
            "Requirement already satisfied: certifi in c:\\users\\lenovo\\appdata\\roaming\\python\\python311\\site-packages (from httpx<0.26.0,>=0.25.2->mistralai) (2022.12.7)\n",
            "Requirement already satisfied: httpcore==1.* in c:\\users\\lenovo\\appdata\\roaming\\python\\python311\\site-packages (from httpx<0.26.0,>=0.25.2->mistralai) (1.0.4)\n",
            "Requirement already satisfied: idna in c:\\users\\lenovo\\appdata\\roaming\\python\\python311\\site-packages (from httpx<0.26.0,>=0.25.2->mistralai) (3.6)\n",
            "Requirement already satisfied: sniffio in c:\\users\\lenovo\\appdata\\roaming\\python\\python311\\site-packages (from httpx<0.26.0,>=0.25.2->mistralai) (1.3.1)\n",
            "Requirement already satisfied: h11<0.15,>=0.13 in c:\\users\\lenovo\\appdata\\roaming\\python\\python311\\site-packages (from httpcore==1.*->httpx<0.26.0,>=0.25.2->mistralai) (0.14.0)\n",
            "Requirement already satisfied: annotated-types>=0.4.0 in c:\\users\\lenovo\\appdata\\roaming\\python\\python311\\site-packages (from pydantic<3.0.0,>=2.5.2->mistralai) (0.6.0)\n",
            "Requirement already satisfied: pydantic-core==2.16.3 in c:\\users\\lenovo\\appdata\\roaming\\python\\python311\\site-packages (from pydantic<3.0.0,>=2.5.2->mistralai) (2.16.3)\n",
            "Requirement already satisfied: typing-extensions>=4.6.1 in c:\\users\\lenovo\\appdata\\roaming\\python\\python311\\site-packages (from pydantic<3.0.0,>=2.5.2->mistralai) (4.10.0)\n",
            "Downloading mistralai-0.1.8-py3-none-any.whl (15 kB)\n",
            "Downloading httpx-0.25.2-py3-none-any.whl (74 kB)\n",
            "   ---------------------------------------- 0.0/75.0 kB ? eta -:--:--\n",
            "   --------------------- ------------------ 41.0/75.0 kB 1.9 MB/s eta 0:00:01\n",
            "   ---------------------------------------- 75.0/75.0 kB 2.1 MB/s eta 0:00:00\n",
            "Installing collected packages: httpx, mistralai\n",
            "  Attempting uninstall: httpx\n",
            "    Found existing installation: httpx 0.27.0\n",
            "    Uninstalling httpx-0.27.0:\n",
            "      Successfully uninstalled httpx-0.27.0\n",
            "Successfully installed httpx-0.25.2 mistralai-0.1.8\n",
            "Note: you may need to restart the kernel to use updated packages.\n"
          ]
        },
        {
          "name": "stderr",
          "output_type": "stream",
          "text": [
            "ERROR: pip's dependency resolver does not currently take into account all the packages that are installed. This behaviour is the source of the following dependency conflicts.\n",
            "llama-index-core 0.10.25.post3 requires openai>=1.1.0, but you have openai 0.27.9 which is incompatible.\n",
            "llama-index-legacy 0.9.48 requires openai>=1.1.0, but you have openai 0.27.9 which is incompatible.\n",
            "llama-index-llms-huggingface 0.1.4 requires huggingface-hub<0.21.0,>=0.20.3, but you have huggingface-hub 0.22.2 which is incompatible.\n"
          ]
        }
      ],
      "source": [
        "pip install mistralai"
      ]
    },
    {
      "cell_type": "code",
      "execution_count": 2,
      "metadata": {
        "id": "2rx0Kj6xJX4N"
      },
      "outputs": [],
      "source": [
        "function_descriptions = [\n",
        "    {\n",
        "        \"type\": \"function\",\n",
        "        \"function\":{\n",
        "          \"name\": \"move_group\",\n",
        "          \"description\": \"Gives the transalational(metres) movements and angular(radians) rotations in x,y and z axis.\",\n",
        "          \"parameters\": {\n",
        "              \"type\": \"object\",\n",
        "              \"properties\": {\n",
        "                  \"x\": {\n",
        "                      \"type\": \"object\",\n",
        "                      \"properties\": {\n",
        "                          \"value\":{\n",
        "                              \"type\": \"integer\",\n",
        "                              \"description\": \"Movement along x axis, the movement can be in +x axis(right) or in -x axis(left). \"\n",
        "                              },\n",
        "                          \"is_relative\":{\n",
        "                              \"type\": \"boolean\",\n",
        "                              \"description\": \"Specifies if the x-axis movement is relative\"\n",
        "                              }\n",
        "                          }\n",
        "                      },\n",
        "                  \"y\": {\n",
        "                      \"type\": \"object\",\n",
        "                      \"properties\": {\n",
        "                          \"value\":{\n",
        "                              \"type\": \"integer\",\n",
        "                              \"description\": \"Movement along y axis, the movement can be in +y axis(forward) or in -y axis(backward)\"\n",
        "                              },\n",
        "                          \"is_relative\":{\n",
        "                              \"type\": \"boolean\",\n",
        "                              \"description\": \"Specifies if the y-axis movement is relative\"\n",
        "                              }\n",
        "                          }\n",
        "                      },\n",
        "                  \"z\": {\n",
        "                      \"type\": \"object\",\n",
        "                      \"properties\": {\n",
        "                          \"value\":{\n",
        "                              \"type\": \"integer\",\n",
        "                              \"description\": \"Movement along z axis, the movement can be in +z axis(up) or in -z axis(down)\"\n",
        "                              },\n",
        "                          \"is_relative\":{\n",
        "                              \"type\": \"boolean\",\n",
        "                              \"description\": \"Specifies if the z-axis movement is relative\"\n",
        "                              }\n",
        "                          }\n",
        "                      },\n",
        "                  \"roll\": {\n",
        "                      \"type\": \"object\",\n",
        "                      \"properties\": {\n",
        "                          \"value\":{\n",
        "                              \"type\": \"integer\",\n",
        "                              \"description\": \"Rotation along x-axis(longitudinal axis), the movement can be in +x axis(positive) or in -x axis(negative)\"\n",
        "                              },\n",
        "                          \"is_relative\":{\n",
        "                              \"type\": \"boolean\",\n",
        "                              \"description\": \"Specifies if the rotation in x-axis is relative\"\n",
        "                              }\n",
        "                          }\n",
        "                      },\n",
        "                  \"pitch\": {\n",
        "                      \"type\": \"object\",\n",
        "                      \"properties\": {\n",
        "                          \"value\":{\n",
        "                              \"type\": \"integer\",\n",
        "                              \"description\": \"Rotation along y-axis(lateral axis), the movement can be in +y axis(positive/front) or in -y axis(negative/back)\"\n",
        "                              },\n",
        "                          \"is_relative\":{\n",
        "                              \"type\": \"boolean\",\n",
        "                              \"description\": \"Specifies if the rotation in y-axis is relative\"\n",
        "                              }\n",
        "                          }\n",
        "                      },\n",
        "                  \"yaw\": {\n",
        "                      \"type\": \"object\",\n",
        "                      \"properties\": {\n",
        "                          \"value\":{\n",
        "                              \"type\": \"integer\",\n",
        "                              \"description\": \"Rotation along z-axis(vertical axis), the movement can be in clockwise(-ve) or anti-clockwise(+ve)\"\n",
        "                              },\n",
        "                          \"is_relative\":{\n",
        "                              \"type\": \"boolean\",\n",
        "                              \"description\": \"Specifies if the rotation in z-axis is relative\"\n",
        "                              }\n",
        "                          }\n",
        "                      },\n",
        "                  }\n",
        "\n",
        "              }\n",
        "          }\n",
        "\n",
        "    }\n",
        "]"
      ]
    },
    {
      "cell_type": "code",
      "execution_count": null,
      "metadata": {
        "id": "we9cATWYCz5U"
      },
      "outputs": [],
      "source": [
        "from mistralai.client import MistralClient\n",
        "from mistralai.models.chat_completion import ChatMessage\n",
        "import json\n",
        "api_key=''\n",
        "\n",
        "# model = \"mistral-large-latest\"\n",
        "model = \"open-mixtral-8x22b\"\n",
        "\n",
        "client = MistralClient(api_key=api_key)\n",
        "\n",
        "def chat_mistral(prompt: str):\n",
        "    call_id = 'yxBO5EvnL'\n",
        "    exemplar_in = \"move left\"\n",
        "    exemplar_out = {\n",
        "        \"x\": {\n",
        "            \"value\": -0.05,\n",
        "            \"is_relative\": True\n",
        "        }\n",
        "    }\n",
        "\n",
        "    function_info = function_descriptions[0][\"function\"]\n",
        "\n",
        "    messages = [\n",
        "        {'role': 'user', 'content': \"move left\"},\n",
        "        {\n",
        "            'role': 'assistant',\n",
        "            'tool_calls': [{\n",
        "                'id': call_id,\n",
        "                'function': {\n",
        "                    'name': function_info[\"name\"],\n",
        "                    'arguments': json.dumps(exemplar_out)\n",
        "                },\n",
        "                'type': 'function'\n",
        "            }],\n",
        "        },\n",
        "        {\n",
        "            \"role\": \"tool\",\n",
        "            \"tool_call_id\": call_id,\n",
        "            \"name\": function_info[\"name\"],\n",
        "            \"content\": json.dumps(exemplar_out),\n",
        "        },\n",
        "        {\n",
        "            'role': 'assistant',  # Add an assistant message to handle output from tool before user continues\n",
        "            'content': 'The move has been processed.'  # Placeholder text, adjust based on actual use case\n",
        "        },\n",
        "        {'role': 'user', 'content': prompt},\n",
        "    ]\n",
        "\n",
        "    chat_response = client.chat(\n",
        "        model=model,\n",
        "        messages=messages,\n",
        "        tools=function_descriptions,\n",
        "        tool_choice=\"auto\"\n",
        "    )\n",
        "\n",
        "    return chat_response.choices[0].message"
      ]
    },
    {
      "cell_type": "code",
      "execution_count": 6,
      "metadata": {
        "colab": {
          "base_uri": "https://localhost:8080/"
        },
        "id": "h5qCR43aJaUC",
        "outputId": "ed550b30-1033-4afa-d9e5-867043d90d39"
      },
      "outputs": [
        {
          "name": "stdout",
          "output_type": "stream",
          "text": [
            "role='assistant' content='' name=None tool_calls=[ToolCall(id='rUYScyGC9', type=<ToolType.function: 'function'>, function=FunctionCall(name='move_group', arguments='{\"z\": {\"value\": 0.05, \"is_relative\": true}}'))]\n"
          ]
        }
      ],
      "source": [
        "prompt = \"\"\"move up\"\"\"\n",
        "print(chat_mistral(prompt))"
      ]
    },
    {
      "cell_type": "code",
      "execution_count": null,
      "metadata": {
        "id": "7bjMLogOKTmR"
      },
      "outputs": [],
      "source": [
        "from mistralai.client import MistralClient\n",
        "from mistralai.models.chat_completion import ChatMessage\n",
        "import json\n",
        "\n",
        "api_key = ''\n",
        "model = \"open-mixtral-8x22b\"\n",
        "client = MistralClient(api_key=api_key)\n",
        "\n",
        "def chat_mistral(prompt: str):\n",
        "    # Define multiple exemplars\n",
        "    exemplars = [\n",
        "        (\"move left\", {\"x\": {\"value\": -0.05, \"is_relative\": True}}),\n",
        "        (\"move slightly up\", {\"z\": {\"value\": 0.025, \"is_relative\": True}}),\n",
        "        (\"x=2m\", {\"x\": {\"value\": 2, \"is_relative\": False}}),\n",
        "        (\"turn right by 45 degrees\", {\"yaw\": {\"value\": 0.785398, \"is_relative\": True}}),\n",
        "        (\"tilt left\", {\"roll\": {\"value\": -0.1745, \"is_relative\": True}}),\n",
        "        (\"tilt slightly back\", {\"pitch\": {\"value\": -0.0872, \"is_relative\": True}}),\n",
        "        (\"turn left slightly and roll to the right\", {\"yaw\": {\"value\": -0.0872, \"is_relative\": True}, \"roll\": {\"value\": 0.1745, \"is_relative\": True}}),\n",
        "        (\"move to x=2 and pitch up\", {\"x\": {\"value\": 2, \"is_relative\": False}, \"pitch\": {\"value\": 0.1745, \"is_relative\": True}}),\n",
        "        (\"take 10m forward, x=10cm\", {\"y\": {\"value\": 10, \"is_relative\": True}, \"x\": {\"value\": 0.1, \"is_relative\": False}}),\n",
        "        (\"take left and go slightly up\", {\"x\": {\"value\": -0.05, \"is_relative\": True}, \"z\": {\"value\": 0.025, \"is_relative\": True}}),\n",
        "        (\"move 0.7m back-right with relative yaw angle of 36 degree\", {\"y\": {\"value\": -0.7, \"is_relative\": True}, \"x\": {\"value\": 0.7, \"is_relative\": True},\"yaw\": {\"value\": 0.628, \"is_relative\": True}}),\n",
        "        (\"pitch up and roll =20 degrees\", {\"pitch\": {\"value\": 0.1745, \"is_relative\": True}, \"roll\": {\"value\": 0.3490, \"is_relative\": False}}),\n",
        "        (\"turn slightly left and move up\", {\"pitch\": {\"value\": -0.0872, \"is_relative\": True}, \"z\": {\"value\": 0.05, \"is_relative\": True}}),\n",
        "        (\"go back and turn right\", {\"y\": {\"value\": -0.05, \"is_relative\": True}, \"yaw\": {\"value\": 0.0872, \"is_relative\": True}}),\n",
        "    ]\n",
        "\n",
        "    # Initialize messages list with exemplars\n",
        "    messages = []\n",
        "    for idx, (ex_in, ex_out) in enumerate(exemplars):\n",
        "        #call_id = f'exemplar{idx}'\n",
        "        call_id = f'exemplar1'\n",
        "        function_info = function_descriptions[0][\"function\"]\n",
        "\n",
        "        messages.extend([\n",
        "            {'role': 'user', 'content': ex_in},\n",
        "            {\n",
        "                'role': 'assistant',\n",
        "                'tool_calls': [{\n",
        "                    'id': call_id,\n",
        "                    'function': {\n",
        "                        'name': function_info[\"name\"],\n",
        "                        'arguments': json.dumps(ex_out)\n",
        "                    },\n",
        "                    'type': 'function'\n",
        "                }],\n",
        "            },\n",
        "            {\n",
        "                \"role\": \"tool\",\n",
        "                \"tool_call_id\": call_id,\n",
        "                \"name\": function_info[\"name\"],\n",
        "                \"content\": json.dumps(ex_out),\n",
        "            },\n",
        "            {\n",
        "                'role': 'assistant',\n",
        "                'content': f'Response to {ex_in} processed.'\n",
        "            }\n",
        "        ])\n",
        "\n",
        "    # Add the user's actual prompt at the end of the messages list\n",
        "    messages.append({'role': 'user', 'content': prompt})\n",
        "    #print(messages)\n",
        "\n",
        "    # Make the chat call\n",
        "    chat_response = client.chat(\n",
        "        model=model,\n",
        "        messages=messages,\n",
        "        tools=function_descriptions,\n",
        "        tool_choice=\"auto\"\n",
        "    )\n",
        "\n",
        "    return chat_response.choices[0].message.tool_calls"
      ]
    },
    {
      "cell_type": "code",
      "execution_count": 16,
      "metadata": {
        "colab": {
          "base_uri": "https://localhost:8080/"
        },
        "id": "aNrXcFY-KZX0",
        "outputId": "34bbc73e-152d-4a22-94ba-7d5a2ba51c8d"
      },
      "outputs": [
        {
          "name": "stdout",
          "output_type": "stream",
          "text": [
            "[ToolCall(id='ystrDEjL9', type=<ToolType.function: 'function'>, function=FunctionCall(name='move_group', arguments='{\"yaw\": {\"value\": -0.0872, \"is_relative\": true}, \"roll\": {\"value\": 0.1745, \"is_relative\": true}}'))]\n"
          ]
        }
      ],
      "source": [
        "prompt = \"\"\"turn left slightly and roll to the right\"\"\"\n",
        "print(chat_mistral(prompt))"
      ]
    },
    {
      "cell_type": "code",
      "execution_count": 54,
      "metadata": {
        "colab": {
          "base_uri": "https://localhost:8080/"
        },
        "id": "oqOGLWz0am5Z",
        "outputId": "4cc42fd2-3fca-433b-98d0-cb597a00e9f2"
      },
      "outputs": [
        {
          "name": "stdout",
          "output_type": "stream",
          "text": [
            "[ToolCall(id='TR9OP4Myr', type=<ToolType.function: 'function'>, function=FunctionCall(name='move_group', arguments='{\"y\": {\"value\": -2, \"is_relative\": false}}'))]\n"
          ]
        }
      ],
      "source": [
        "prompt = \"\"\"y=-2m\"\"\" #correct\n",
        "print(chat_mistral(prompt))"
      ]
    },
    {
      "cell_type": "code",
      "execution_count": 55,
      "metadata": {
        "colab": {
          "base_uri": "https://localhost:8080/"
        },
        "id": "Cu3E9JK8hJWj",
        "outputId": "97a04216-a49d-4c66-9900-2455357aa868"
      },
      "outputs": [
        {
          "name": "stdout",
          "output_type": "stream",
          "text": [
            "[ToolCall(id='Db0q4bkRr', type=<ToolType.function: 'function'>, function=FunctionCall(name='move_group', arguments='{\"y\": {\"value\": 2, \"is_relative\": false}, \"x\": {\"value\": -2, \"is_relative\": false}}'))]\n"
          ]
        }
      ],
      "source": [
        "prompt = \"\"\"y=2m, x=-2m\"\"\" #correct\n",
        "print(chat_mistral(prompt))"
      ]
    },
    {
      "cell_type": "code",
      "execution_count": 56,
      "metadata": {
        "colab": {
          "base_uri": "https://localhost:8080/"
        },
        "id": "wD0_ChHRhR7V",
        "outputId": "255ecc6d-82d0-4a57-b37b-3ce3121db132"
      },
      "outputs": [
        {
          "name": "stdout",
          "output_type": "stream",
          "text": [
            "[ToolCall(id='S7bU6Lytg', type=<ToolType.function: 'function'>, function=FunctionCall(name='move_group', arguments='{\"z\": {\"value\": 0.025, \"is_relative\": true}}'))]\n"
          ]
        }
      ],
      "source": [
        "prompt = \"\"\"move slightly up\"\"\"#correct\n",
        "print(chat_mistral(prompt))"
      ]
    },
    {
      "cell_type": "code",
      "execution_count": 57,
      "metadata": {
        "colab": {
          "base_uri": "https://localhost:8080/"
        },
        "id": "4_GHehglhVuZ",
        "outputId": "74a80de9-724f-4bac-e405-4d85763ca356"
      },
      "outputs": [
        {
          "name": "stdout",
          "output_type": "stream",
          "text": [
            "[ToolCall(id='zQE6x08Ko', type=<ToolType.function: 'function'>, function=FunctionCall(name='move_group', arguments='{\"z\": {\"value\": -12, \"is_relative\": false}}'))]\n"
          ]
        }
      ],
      "source": [
        "prompt = \"\"\"z=-12m\"\"\"#correct\n",
        "print(chat_mistral(prompt))"
      ]
    },
    {
      "cell_type": "code",
      "execution_count": 58,
      "metadata": {
        "colab": {
          "base_uri": "https://localhost:8080/"
        },
        "id": "4F0R6ZGmhdyh",
        "outputId": "c76a14b6-1950-4806-a962-fe9f648b229b"
      },
      "outputs": [
        {
          "name": "stdout",
          "output_type": "stream",
          "text": [
            "[ToolCall(id='K4eTe67m3', type=<ToolType.function: 'function'>, function=FunctionCall(name='move_group', arguments='{\"x\": {\"value\": -0.025, \"is_relative\": true}}'))]\n"
          ]
        }
      ],
      "source": [
        "prompt = \"\"\"Take the arm slightly left\"\"\"#correct\n",
        "print(chat_mistral(prompt))"
      ]
    },
    {
      "cell_type": "code",
      "execution_count": 81,
      "metadata": {
        "colab": {
          "base_uri": "https://localhost:8080/"
        },
        "id": "f9NZ859Shobq",
        "outputId": "d7487b06-cc2c-4ab7-962c-9ffe79380be0"
      },
      "outputs": [
        {
          "name": "stdout",
          "output_type": "stream",
          "text": [
            "[ToolCall(id='XJwBeJtT0', type=<ToolType.function: 'function'>, function=FunctionCall(name='move_group', arguments='{\"roll\": {\"value\": -0.523599, \"is_relative\": true}}'))]\n"
          ]
        }
      ],
      "source": [
        "prompt = \"\"\"tilt the manipulator to 30 degrees left\"\"\"#correct\n",
        "print(chat_mistral(prompt))"
      ]
    },
    {
      "cell_type": "code",
      "execution_count": 80,
      "metadata": {
        "colab": {
          "base_uri": "https://localhost:8080/"
        },
        "id": "vFfUyHzwhu6i",
        "outputId": "293499e2-d8ea-4b2f-e8d6-68cae51de2d6"
      },
      "outputs": [
        {
          "name": "stdout",
          "output_type": "stream",
          "text": [
            "[ToolCall(id='bzEb6Vz9s', type=<ToolType.function: 'function'>, function=FunctionCall(name='move_group', arguments='{\"z\": {\"value\": -0.1, \"is_relative\": true}}'))]\n"
          ]
        }
      ],
      "source": [
        "prompt = \"\"\"Move the arm down from the current position\"\"\"#incorrect\n",
        "print(chat_mistral(prompt))"
      ]
    },
    {
      "cell_type": "code",
      "execution_count": 61,
      "metadata": {
        "colab": {
          "base_uri": "https://localhost:8080/"
        },
        "id": "lwSX_mZlh0ek",
        "outputId": "acbfa912-134e-4ab4-ad9d-81ea6ff3c397"
      },
      "outputs": [
        {
          "name": "stdout",
          "output_type": "stream",
          "text": [
            "[ToolCall(id='EGFVrZUKX', type=<ToolType.function: 'function'>, function=FunctionCall(name='move_group', arguments='{\"x\": {\"value\": 5, \"is_relative\": false}, \"z\": {\"value\": 7, \"is_relative\": false}}'))]\n"
          ]
        }
      ],
      "source": [
        "prompt = \"\"\"z=7m, x=5m\"\"\" #corret\n",
        "print(chat_mistral(prompt))"
      ]
    },
    {
      "cell_type": "code",
      "execution_count": 62,
      "metadata": {
        "colab": {
          "base_uri": "https://localhost:8080/"
        },
        "id": "nGRGjSBqh6aP",
        "outputId": "d15748ba-e62d-4cc9-a035-aa8d49580fa3"
      },
      "outputs": [
        {
          "name": "stdout",
          "output_type": "stream",
          "text": [
            "[ToolCall(id='Vy5qbSDbP', type=<ToolType.function: 'function'>, function=FunctionCall(name='move_group', arguments='{\"x\": {\"value\": 5, \"is_relative\": false}, \"y\": {\"value\": 10, \"is_relative\": false}}'))]\n"
          ]
        }
      ],
      "source": [
        "\n",
        "prompt = \"\"\"x=5m, y=10m\"\"\"#correct\n",
        "print(chat_mistral(prompt))\n"
      ]
    },
    {
      "cell_type": "code",
      "execution_count": 63,
      "metadata": {
        "colab": {
          "base_uri": "https://localhost:8080/"
        },
        "id": "LqU3BfL0iC6m",
        "outputId": "df726b2f-d60c-42db-cd84-0d93bd6b35d1"
      },
      "outputs": [
        {
          "name": "stdout",
          "output_type": "stream",
          "text": [
            "[ToolCall(id='wnuZFsDSD', type=<ToolType.function: 'function'>, function=FunctionCall(name='move_group', arguments='{\"x\": {\"value\": 0.5, \"is_relative\": false}}'))]\n"
          ]
        }
      ],
      "source": [
        "prompt = \"\"\"go to x=0.5\"\"\"#correct\n",
        "print(chat_mistral(prompt))"
      ]
    },
    {
      "cell_type": "code",
      "execution_count": 79,
      "metadata": {
        "colab": {
          "base_uri": "https://localhost:8080/"
        },
        "id": "INfzrQdGiIaE",
        "outputId": "689fc8f0-1c24-42b2-8d2c-b549dfd1510e"
      },
      "outputs": [
        {
          "name": "stdout",
          "output_type": "stream",
          "text": [
            "[ToolCall(id='JVc3hHKjY', type=<ToolType.function: 'function'>, function=FunctionCall(name='move_group', arguments='{\"y\": {\"value\": 10, \"is_relative\": true}}'))]\n"
          ]
        }
      ],
      "source": [
        "prompt = \"\"\"Move 10m forward\"\"\" #correct\n",
        "print(chat_mistral(prompt))"
      ]
    },
    {
      "cell_type": "code",
      "execution_count": 65,
      "metadata": {
        "colab": {
          "base_uri": "https://localhost:8080/"
        },
        "id": "j4CCBcAqiNKF",
        "outputId": "0a0483bd-e6d3-4522-941d-7bb10d6f6c61"
      },
      "outputs": [
        {
          "name": "stdout",
          "output_type": "stream",
          "text": [
            "[ToolCall(id='xqaXhmJc1', type=<ToolType.function: 'function'>, function=FunctionCall(name='move_group', arguments='{\"z\": {\"value\": 0.2, \"is_relative\": true}}'))]\n"
          ]
        }
      ],
      "source": [
        "prompt = \"\"\"move up by 0.2m\"\"\"#correct\n",
        "print(chat_mistral(prompt))"
      ]
    },
    {
      "cell_type": "code",
      "execution_count": 78,
      "metadata": {
        "colab": {
          "base_uri": "https://localhost:8080/"
        },
        "id": "u5x6MKXoiTyM",
        "outputId": "89d7bd03-12d9-4ea7-8a8f-75d6e81607f1"
      },
      "outputs": [
        {
          "name": "stdout",
          "output_type": "stream",
          "text": [
            "[ToolCall(id='Qg7bTmok0', type=<ToolType.function: 'function'>, function=FunctionCall(name='move_group', arguments='{\"y\": {\"value\": 0.05, \"is_relative\": true}}'))]\n"
          ]
        }
      ],
      "source": [
        "prompt = \"\"\"go forward slightly\"\"\" #incorrect\n",
        "print(chat_mistral(prompt))"
      ]
    },
    {
      "cell_type": "code",
      "execution_count": 67,
      "metadata": {
        "colab": {
          "base_uri": "https://localhost:8080/"
        },
        "id": "k1yeMUzmibBV",
        "outputId": "1c05472d-6324-4a77-8964-76efff7f9634"
      },
      "outputs": [
        {
          "name": "stdout",
          "output_type": "stream",
          "text": [
            "[ToolCall(id='eHDN5SDd0', type=<ToolType.function: 'function'>, function=FunctionCall(name='move_group', arguments='{\"y\": {\"value\": -0.2, \"is_relative\": true}}'))]\n"
          ]
        }
      ],
      "source": [
        "prompt = \"\"\"go back by 0.2m\"\"\" #correct\n",
        "print(chat_mistral(prompt))"
      ]
    },
    {
      "cell_type": "code",
      "execution_count": 68,
      "metadata": {
        "colab": {
          "base_uri": "https://localhost:8080/"
        },
        "id": "mQdQ5Zyhie65",
        "outputId": "b1c8de2e-6df8-42d4-fbc4-d23bcb4bd194"
      },
      "outputs": [
        {
          "name": "stdout",
          "output_type": "stream",
          "text": [
            "[ToolCall(id='qkRMeqqPl', type=<ToolType.function: 'function'>, function=FunctionCall(name='move_group', arguments='{\"z\": {\"value\": -0.5, \"is_relative\": false}}'))]\n"
          ]
        }
      ],
      "source": [
        "prompt = \"\"\"go to z=-0.5\"\"\" #correct\n",
        "print(chat_mistral(prompt))"
      ]
    },
    {
      "cell_type": "code",
      "execution_count": 69,
      "metadata": {
        "colab": {
          "base_uri": "https://localhost:8080/"
        },
        "id": "p4Y0UdVFik9N",
        "outputId": "fde258fa-153a-469d-884d-d22db03fd80c"
      },
      "outputs": [
        {
          "name": "stdout",
          "output_type": "stream",
          "text": [
            "[ToolCall(id='xeOxDJV14', type=<ToolType.function: 'function'>, function=FunctionCall(name='move_group', arguments='{\"z\": {\"value\": -0.2, \"is_relative\": false}, \"x\": {\"value\": 0.1, \"is_relative\": false}}'))]\n"
          ]
        }
      ],
      "source": [
        "prompt = \"\"\"go to z=-0.2 and x=0.1\"\"\"#correct\n",
        "print(chat_mistral(prompt))"
      ]
    },
    {
      "cell_type": "code",
      "execution_count": 70,
      "metadata": {
        "colab": {
          "base_uri": "https://localhost:8080/"
        },
        "id": "AwhCFma-io7k",
        "outputId": "6f18db19-3d75-42bb-a17e-ce484fe2cd42"
      },
      "outputs": [
        {
          "name": "stdout",
          "output_type": "stream",
          "text": [
            "[ToolCall(id='JY4xqbKmC', type=<ToolType.function: 'function'>, function=FunctionCall(name='move_group', arguments='{\"x\": {\"value\": -5, \"is_relative\": true}}'))]\n"
          ]
        }
      ],
      "source": [
        "prompt = \"\"\"Move the arm 5m towards left\"\"\"#correct\n",
        "print(chat_mistral(prompt))"
      ]
    },
    {
      "cell_type": "code",
      "execution_count": 71,
      "metadata": {
        "colab": {
          "base_uri": "https://localhost:8080/"
        },
        "id": "vyTiOftJitqM",
        "outputId": "5187ae06-0681-4da5-a674-b87138561a71"
      },
      "outputs": [
        {
          "name": "stdout",
          "output_type": "stream",
          "text": [
            "[ToolCall(id='lSxWMtkRA', type=<ToolType.function: 'function'>, function=FunctionCall(name='move_group', arguments='{\"x\": {\"value\": -0.1, \"is_relative\": true}}'))]\n"
          ]
        }
      ],
      "source": [
        "prompt = \"\"\"take 0.1m left\"\"\"#correct\n",
        "print(chat_mistral(prompt))"
      ]
    },
    {
      "cell_type": "code",
      "execution_count": 77,
      "metadata": {
        "colab": {
          "base_uri": "https://localhost:8080/"
        },
        "id": "pddaLVuoizEt",
        "outputId": "7fefe341-6412-4b72-fdf2-899372e12bfe"
      },
      "outputs": [
        {
          "name": "stdout",
          "output_type": "stream",
          "text": [
            "[ToolCall(id='3RrOBhniG', type=<ToolType.function: 'function'>, function=FunctionCall(name='move_group', arguments='{\"y\": {\"value\": 0.1, \"is_relative\": true}}'))]\n"
          ]
        }
      ],
      "source": [
        "prompt = \"\"\"go front\"\"\"#incorrect\n",
        "print(chat_mistral(prompt))"
      ]
    },
    {
      "cell_type": "code",
      "execution_count": 76,
      "metadata": {
        "colab": {
          "base_uri": "https://localhost:8080/"
        },
        "id": "utlMmKDBi4hT",
        "outputId": "278e3115-c0a8-41ac-d8ee-25ac6fefe002"
      },
      "outputs": [
        {
          "name": "stdout",
          "output_type": "stream",
          "text": [
            "[ToolCall(id='hFhL9hyRw', type=<ToolType.function: 'function'>, function=FunctionCall(name='move_group', arguments='{\"x\": {\"value\": -0.05, \"is_relative\": true}}'))]\n"
          ]
        }
      ],
      "source": [
        "prompt = \"\"\"move slightly left\"\"\"#incorrct\n",
        "print(chat_mistral(prompt))"
      ]
    },
    {
      "cell_type": "code",
      "execution_count": 75,
      "metadata": {
        "colab": {
          "base_uri": "https://localhost:8080/"
        },
        "id": "bQGri_9ujH8J",
        "outputId": "7f185721-b87d-48b6-8e43-15e5bba0d7ff"
      },
      "outputs": [
        {
          "name": "stdout",
          "output_type": "stream",
          "text": [
            "[ToolCall(id='AMhiDwRBJ', type=<ToolType.function: 'function'>, function=FunctionCall(name='move_group', arguments='{\"x\": {\"value\": 0.1, \"is_relative\": true}}'))]\n"
          ]
        }
      ],
      "source": [
        "prompt = \"\"\"move right by 0.1m\"\"\"#correct\n",
        "print(chat_mistral(prompt))"
      ]
    },
    {
      "cell_type": "code",
      "execution_count": 83,
      "metadata": {
        "colab": {
          "base_uri": "https://localhost:8080/"
        },
        "id": "cGawD7_8jL82",
        "outputId": "a8148d61-5535-49e1-8f9d-91fdd04a6a93"
      },
      "outputs": [
        {
          "name": "stdout",
          "output_type": "stream",
          "text": [
            "[ToolCall(id='oT1IlnUch', type=<ToolType.function: 'function'>, function=FunctionCall(name='move_group', arguments='{\"yaw\": {\"value\": -0.1745, \"is_relative\": true}}'))]\n"
          ]
        }
      ],
      "source": [
        "prompt = \"\"\"rotate to the left by 10 degrees\"\"\"#correct\n",
        "print(chat_mistral(prompt))"
      ]
    },
    {
      "cell_type": "code",
      "execution_count": 89,
      "metadata": {
        "colab": {
          "base_uri": "https://localhost:8080/"
        },
        "id": "XbviM87gjQ_V",
        "outputId": "f6c73208-46e6-4794-873b-7d4481568f2e"
      },
      "outputs": [
        {
          "name": "stdout",
          "output_type": "stream",
          "text": [
            "[ToolCall(id='olX6QmD5I', type=<ToolType.function: 'function'>, function=FunctionCall(name='move_group', arguments='{\"yaw\": {\"value\": -0.0872, \"is_relative\": true}}'))]\n"
          ]
        }
      ],
      "source": [
        "prompt = \"\"\"yaw left slightly\"\"\" #correct\n",
        "print(chat_mistral(prompt))"
      ]
    },
    {
      "cell_type": "code",
      "execution_count": 90,
      "metadata": {
        "colab": {
          "base_uri": "https://localhost:8080/"
        },
        "id": "a1yEtwQMjUuG",
        "outputId": "922407ea-9487-4a24-e0d0-0b243b6b1db7"
      },
      "outputs": [
        {
          "name": "stdout",
          "output_type": "stream",
          "text": [
            "[ToolCall(id='nQaZFpILk', type=<ToolType.function: 'function'>, function=FunctionCall(name='move_group', arguments='{\"pitch\": {\"value\": 0.0872, \"is_relative\": true}}'))]\n"
          ]
        }
      ],
      "source": [
        "prompt = \"\"\"pitch upwards by 5 degrees\"\"\"#correct\n",
        "print(chat_mistral(prompt))"
      ]
    },
    {
      "cell_type": "code",
      "execution_count": 91,
      "metadata": {
        "colab": {
          "base_uri": "https://localhost:8080/"
        },
        "id": "4Gr3WyUyjZ1q",
        "outputId": "07f34af2-75a5-46cc-d7ad-b99f73240855"
      },
      "outputs": [
        {
          "name": "stdout",
          "output_type": "stream",
          "text": [
            "[ToolCall(id='BPWYD8eJ4', type=<ToolType.function: 'function'>, function=FunctionCall(name='move_group', arguments='{\"pitch\": {\"value\": 0.698, \"is_relative\": false}}'))]\n"
          ]
        }
      ],
      "source": [
        "prompt = \"\"\"pitch=40 degrees\"\"\"#correct\n",
        "print(chat_mistral(prompt))"
      ]
    },
    {
      "cell_type": "code",
      "execution_count": 92,
      "metadata": {
        "id": "IkatDYf8ltq1"
      },
      "outputs": [],
      "source": [
        "#####LINEAR LINEAR####"
      ]
    },
    {
      "cell_type": "code",
      "execution_count": 95,
      "metadata": {
        "colab": {
          "base_uri": "https://localhost:8080/"
        },
        "id": "FsExkaCSl6eL",
        "outputId": "022df9b1-9508-4c2c-ec49-6ed665f71022"
      },
      "outputs": [
        {
          "name": "stdout",
          "output_type": "stream",
          "text": [
            "[ToolCall(id='mqJSMqZro', type=<ToolType.function: 'function'>, function=FunctionCall(name='move_group', arguments='{\"y\": {\"value\": 0.2, \"is_relative\": false}, \"x\": {\"value\": 0.1, \"is_relative\": false}}'))]\n"
          ]
        }
      ],
      "source": [
        "prompt = \"\"\"move to y=0.2, x=0.1\"\"\" #corretc\n",
        "print(chat_mistral(prompt))"
      ]
    },
    {
      "cell_type": "code",
      "execution_count": 99,
      "metadata": {
        "colab": {
          "base_uri": "https://localhost:8080/"
        },
        "id": "heUFMSaHmB4B",
        "outputId": "7a1847ca-4a8d-45e5-c593-460019467577"
      },
      "outputs": [
        {
          "name": "stdout",
          "output_type": "stream",
          "text": [
            "[ToolCall(id='HVwmAHUS5', type=<ToolType.function: 'function'>, function=FunctionCall(name='move_group', arguments='{\"y\": {\"value\": 10, \"is_relative\": false}, \"x\": {\"value\": -20, \"is_relative\": true}}'))]\n"
          ]
        }
      ],
      "source": [
        "prompt = \"\"\"move 10m forward, take 20m left\"\"\"#incorrect\n",
        "print(chat_mistral(prompt))"
      ]
    },
    {
      "cell_type": "code",
      "execution_count": 102,
      "metadata": {
        "colab": {
          "base_uri": "https://localhost:8080/"
        },
        "id": "jS90wD_GmKs8",
        "outputId": "ace660ce-0df9-43f2-8d5f-0c901e0fb423"
      },
      "outputs": [
        {
          "name": "stdout",
          "output_type": "stream",
          "text": [
            "[ToolCall(id='IyYfuetJs', type=<ToolType.function: 'function'>, function=FunctionCall(name='move_group', arguments='{\"y\": {\"value\": 0.3, \"is_relative\": true}, \"x\": {\"value\": 0.1, \"is_relative\": true}}'))]\n"
          ]
        }
      ],
      "source": [
        "prompt = \"\"\"go straight for 0.3m and move right\"\"\"#incorrect\n",
        "print(chat_mistral(prompt))"
      ]
    },
    {
      "cell_type": "code",
      "execution_count": 104,
      "metadata": {
        "colab": {
          "base_uri": "https://localhost:8080/"
        },
        "id": "NKIn9ZmZmPXw",
        "outputId": "54667a2e-561e-4ae1-b21f-d73e4a4d6305"
      },
      "outputs": [
        {
          "name": "stdout",
          "output_type": "stream",
          "text": [
            "[ToolCall(id='7wFD0lmp0', type=<ToolType.function: 'function'>, function=FunctionCall(name='move_group', arguments='{\"x\": {\"value\": -1, \"is_relative\": true}, \"yaw\": {\"value\": -0.1745, \"is_relative\": true}}'))]\n"
          ]
        }
      ],
      "source": [
        "prompt = \"\"\"come back and take a slight left\"\"\"#incorrect\n",
        "print(chat_mistral(prompt))"
      ]
    },
    {
      "cell_type": "code",
      "execution_count": 93,
      "metadata": {
        "id": "9jGuzxaYmUiC"
      },
      "outputs": [],
      "source": [
        "#####ANGULAR - ANGULAR####"
      ]
    },
    {
      "cell_type": "code",
      "execution_count": 106,
      "metadata": {
        "colab": {
          "base_uri": "https://localhost:8080/"
        },
        "id": "pRghqZyUmXkY",
        "outputId": "909580ae-c0b8-452d-a7c8-a480250387f5"
      },
      "outputs": [
        {
          "name": "stdout",
          "output_type": "stream",
          "text": [
            "[ToolCall(id='K8RWcQMNL', type=<ToolType.function: 'function'>, function=FunctionCall(name='move_group', arguments='{\"pitch\": {\"value\": 0.523599, \"is_relative\": true}}')), ToolCall(id='G0Qi9Px6q', type=<ToolType.function: 'function'>, function=FunctionCall(name='move_group', arguments='{\"yaw\": {\"value\": -0.785398, \"is_relative\": true}}'))]\n"
          ]
        }
      ],
      "source": [
        "prompt = \"\"\"Tilt the manipulator arm forward by 30 degrees and turn right\"\"\"#incorrect\n",
        "print(chat_mistral(prompt))"
      ]
    },
    {
      "cell_type": "code",
      "execution_count": 107,
      "metadata": {
        "colab": {
          "base_uri": "https://localhost:8080/"
        },
        "id": "Xw0tJ0x2mdPh",
        "outputId": "9526ac2b-24b7-435e-9f46-f2826f8a2b1d"
      },
      "outputs": [
        {
          "name": "stdout",
          "output_type": "stream",
          "text": [
            "[ToolCall(id='9KJchkDrE', type=<ToolType.function: 'function'>, function=FunctionCall(name='move_group', arguments='{\"yaw\": {\"value\": -0.0872, \"is_relative\": true}, \"roll\": {\"value\": 0.1745, \"is_relative\": true}}'))]\n"
          ]
        }
      ],
      "source": [
        "prompt = \"\"\"Turn left slightly and roll to the right\"\"\"#correct\n",
        "print(chat_mistral(prompt))"
      ]
    },
    {
      "cell_type": "code",
      "execution_count": 111,
      "metadata": {
        "colab": {
          "base_uri": "https://localhost:8080/"
        },
        "id": "kAdYzsDwmjtI",
        "outputId": "e63f12d8-7a5d-4756-a93f-eedaa82eccbc"
      },
      "outputs": [
        {
          "name": "stdout",
          "output_type": "stream",
          "text": [
            "[ToolCall(id='vPYT4vXLA', type=<ToolType.function: 'function'>, function=FunctionCall(name='move_group', arguments='{\"roll\": {\"value\": 0.0872, \"is_relative\": true}, \"pitch\": {\"value\": -0.0872, \"is_relative\": true}}'))]\n"
          ]
        }
      ],
      "source": [
        "prompt = \"\"\"roll slightly to the rigt and pitch downwards\"\"\"#incorrect\n",
        "print(chat_mistral(prompt))"
      ]
    },
    {
      "cell_type": "code",
      "execution_count": 110,
      "metadata": {
        "colab": {
          "base_uri": "https://localhost:8080/"
        },
        "id": "HlHHp11MmvTL",
        "outputId": "9684289d-4bf8-4502-ec4c-7e7768e11386"
      },
      "outputs": [
        {
          "name": "stdout",
          "output_type": "stream",
          "text": [
            "[ToolCall(id='8biRD1h3n', type=<ToolType.function: 'function'>, function=FunctionCall(name='move_group', arguments='{\"roll\": {\"value\": 0.1745, \"is_relative\": true}, \"yaw\": {\"value\": -0.1745, \"is_relative\": true}}'))]\n"
          ]
        }
      ],
      "source": [
        "prompt = \"\"\"tilt right by 10 degrees and yaw left\"\"\"#correct\n",
        "print(chat_mistral(prompt))"
      ]
    },
    {
      "cell_type": "code",
      "execution_count": 94,
      "metadata": {
        "id": "sKsOITbSm086"
      },
      "outputs": [],
      "source": [
        "#####LINEAR - ANGULAR####"
      ]
    },
    {
      "cell_type": "code",
      "execution_count": 114,
      "metadata": {
        "colab": {
          "base_uri": "https://localhost:8080/"
        },
        "id": "vaUNbhxTm35A",
        "outputId": "b2b56b64-a3e2-4352-cec4-7a06dec01a07"
      },
      "outputs": [
        {
          "name": "stdout",
          "output_type": "stream",
          "text": [
            "[ToolCall(id='JNA9WckJi', type=<ToolType.function: 'function'>, function=FunctionCall(name='move_group', arguments='{\"roll\": {\"value\": 1.5707, \"is_relative\": true}, \"x\": {\"value\": 0.5, \"is_relative\": false}}'))]\n"
          ]
        }
      ],
      "source": [
        "prompt = \"\"\"Turn right and go to x=0.5\"\"\"#incorect\n",
        "print(chat_mistral(prompt))"
      ]
    },
    {
      "cell_type": "code",
      "execution_count": 115,
      "metadata": {
        "colab": {
          "base_uri": "https://localhost:8080/"
        },
        "id": "BUWVd2zym9N8",
        "outputId": "f187b24e-1788-41c1-967f-c31e1551705d"
      },
      "outputs": [
        {
          "name": "stdout",
          "output_type": "stream",
          "text": [
            "[ToolCall(id='WNfFQ6Us2', type=<ToolType.function: 'function'>, function=FunctionCall(name='move_group', arguments='{\"y\": {\"value\": 0.1, \"is_relative\": true}, \"x\": {\"value\": -0.1, \"is_relative\": true}, \"yaw\": {\"value\": 1.2566, \"is_relative\": true}}'))]\n"
          ]
        }
      ],
      "source": [
        "prompt = \"\"\"Move 0.1m front left with a relative yaw angle of 72 degrees \"\"\"#correct\n",
        "print(chat_mistral(prompt))"
      ]
    },
    {
      "cell_type": "code",
      "execution_count": 118,
      "metadata": {
        "colab": {
          "base_uri": "https://localhost:8080/"
        },
        "id": "kBzUehlWnCb_",
        "outputId": "e614230b-59ac-4eec-abd6-4946764cdaf1"
      },
      "outputs": [
        {
          "name": "stdout",
          "output_type": "stream",
          "text": [
            "[ToolCall(id='dzIrkzUjs', type=<ToolType.function: 'function'>, function=FunctionCall(name='move_group', arguments='{\"y\": {\"value\": -0.1, \"is_relative\": true}, \"x\": {\"value\": -0.07, \"is_relative\": true}, \"yaw\": {\"value\": 1.25664, \"is_relative\": true}}'))]\n"
          ]
        }
      ],
      "source": [
        "prompt = \"\"\"move 0.1m back-right with relative yaw angle of 72 degrees\"\"\"#incorrect\n",
        "print(chat_mistral(prompt))"
      ]
    },
    {
      "cell_type": "code",
      "execution_count": 119,
      "metadata": {
        "colab": {
          "base_uri": "https://localhost:8080/"
        },
        "id": "F90aW8qFnH9J",
        "outputId": "e3e178cb-3330-4b61-c1c0-70985c678b7d"
      },
      "outputs": [
        {
          "name": "stdout",
          "output_type": "stream",
          "text": [
            "[ToolCall(id='yz18IYBGM', type=<ToolType.function: 'function'>, function=FunctionCall(name='move_group', arguments='{\"z\": {\"value\": 2, \"is_relative\": false}, \"roll\": {\"value\": -0.1745, \"is_relative\": true}}'))]\n"
          ]
        }
      ],
      "source": [
        "prompt = \"\"\"move to z=2 and tilt left\"\"\"#correct\n",
        "print(chat_mistral(prompt))"
      ]
    },
    {
      "cell_type": "code",
      "execution_count": 122,
      "metadata": {
        "colab": {
          "base_uri": "https://localhost:8080/"
        },
        "id": "vYfgunuRnTCU",
        "outputId": "2e493d09-f0b9-42d9-acd8-fe032daaab4e"
      },
      "outputs": [
        {
          "name": "stdout",
          "output_type": "stream",
          "text": [
            "[ToolCall(id='Lh7g4ZmVf', type=<ToolType.function: 'function'>, function=FunctionCall(name='move_group', arguments='{\"pitch\": {\"value\": -0.0872, \"is_relative\": true}, \"roll\": {\"value\": 0.1745, \"is_relative\": false}}'))]\n"
          ]
        }
      ],
      "source": [
        "prompt = \"\"\"tilt slightly front and roll=10\"\"\"#incorrect\n",
        "print(chat_mistral(prompt))"
      ]
    },
    {
      "cell_type": "code",
      "execution_count": 125,
      "metadata": {
        "colab": {
          "base_uri": "https://localhost:8080/"
        },
        "id": "B20VxhbrnWg2",
        "outputId": "50160c52-7bc3-4f15-fbd3-c65893c8c952"
      },
      "outputs": [
        {
          "name": "stdout",
          "output_type": "stream",
          "text": [
            "[ToolCall(id='Ztjlpjy67', type=<ToolType.function: 'function'>, function=FunctionCall(name='move_group', arguments='{\"yaw\": {\"value\": -0.349, \"is_relative\": true}, \"z\": {\"value\": 0.2, \"is_relative\": true}}'))]\n"
          ]
        }
      ],
      "source": [
        "prompt = \"\"\"Yaw left and go up by 0.2m’\"\"\"#incorrect\n",
        "print(chat_mistral(prompt))"
      ]
    },
    {
      "cell_type": "code",
      "execution_count": 129,
      "metadata": {
        "colab": {
          "base_uri": "https://localhost:8080/"
        },
        "id": "pnGbrtODpFnj",
        "outputId": "d23424d5-41cc-47ef-8ef0-3dff2fa46faf"
      },
      "outputs": [
        {
          "name": "stdout",
          "output_type": "stream",
          "text": [
            "[ToolCall(id='lYSUZtTlD', type=<ToolType.function: 'function'>, function=FunctionCall(name='move_group', arguments='{\"z\": {\"value\": -0.2, \"is_relative\": true}, \"yaw\": {\"value\": 0.1745, \"is_relative\": true}}'))]\n"
          ]
        }
      ],
      "source": [
        "prompt = \"\"\"come down and yaw=10 degrees\"\"\"#incorrect\n",
        "print(chat_mistral(prompt))"
      ]
    },
    {
      "cell_type": "code",
      "execution_count": null,
      "metadata": {
        "id": "ZRs4BMVopSSK"
      },
      "outputs": [],
      "source": []
    }
  ],
  "metadata": {
    "colab": {
      "provenance": []
    },
    "kernelspec": {
      "display_name": "Python 3",
      "name": "python3"
    },
    "language_info": {
      "codemirror_mode": {
        "name": "ipython",
        "version": 3
      },
      "file_extension": ".py",
      "mimetype": "text/x-python",
      "name": "python",
      "nbconvert_exporter": "python",
      "pygments_lexer": "ipython3",
      "version": "3.11.8"
    }
  },
  "nbformat": 4,
  "nbformat_minor": 0
}
