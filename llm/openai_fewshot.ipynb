{
  "cells": [
    {
      "cell_type": "code",
      "execution_count": 3,
      "metadata": {
        "colab": {
          "base_uri": "https://localhost:8080/"
        },
        "id": "Rt0rnCJYJN3J",
        "outputId": "23b0c3e1-be68-4268-be80-dc091820b714"
      },
      "outputs": [
        {
          "name": "stdout",
          "output_type": "stream",
          "text": [
            "Defaulting to user installation because normal site-packages is not writeable"
          ]
        },
        {
          "name": "stderr",
          "output_type": "stream",
          "text": [
            "\n",
            "[notice] A new release of pip is available: 24.0 -> 25.1.1\n",
            "[notice] To update, run: python.exe -m pip install --upgrade pip\n"
          ]
        },
        {
          "name": "stdout",
          "output_type": "stream",
          "text": [
            "\n",
            "Requirement already satisfied: openai==0.27.9 in c:\\users\\lenovo\\appdata\\roaming\\python\\python311\\site-packages (0.27.9)\n",
            "Requirement already satisfied: requests>=2.20 in c:\\users\\lenovo\\appdata\\roaming\\python\\python311\\site-packages (from openai==0.27.9) (2.31.0)\n",
            "Requirement already satisfied: tqdm in c:\\users\\lenovo\\appdata\\roaming\\python\\python311\\site-packages (from openai==0.27.9) (4.66.2)\n",
            "Requirement already satisfied: aiohttp in c:\\users\\lenovo\\appdata\\roaming\\python\\python311\\site-packages (from openai==0.27.9) (3.9.3)\n",
            "Requirement already satisfied: charset-normalizer<4,>=2 in c:\\users\\lenovo\\appdata\\roaming\\python\\python311\\site-packages (from requests>=2.20->openai==0.27.9) (3.3.2)\n",
            "Requirement already satisfied: idna<4,>=2.5 in c:\\users\\lenovo\\appdata\\roaming\\python\\python311\\site-packages (from requests>=2.20->openai==0.27.9) (3.6)\n",
            "Requirement already satisfied: urllib3<3,>=1.21.1 in c:\\users\\lenovo\\appdata\\roaming\\python\\python311\\site-packages (from requests>=2.20->openai==0.27.9) (2.2.1)\n",
            "Requirement already satisfied: certifi>=2017.4.17 in c:\\users\\lenovo\\appdata\\roaming\\python\\python311\\site-packages (from requests>=2.20->openai==0.27.9) (2022.12.7)\n",
            "Requirement already satisfied: aiosignal>=1.1.2 in c:\\users\\lenovo\\appdata\\roaming\\python\\python311\\site-packages (from aiohttp->openai==0.27.9) (1.3.1)\n",
            "Requirement already satisfied: attrs>=17.3.0 in c:\\users\\lenovo\\appdata\\roaming\\python\\python311\\site-packages (from aiohttp->openai==0.27.9) (23.2.0)\n",
            "Requirement already satisfied: frozenlist>=1.1.1 in c:\\users\\lenovo\\appdata\\roaming\\python\\python311\\site-packages (from aiohttp->openai==0.27.9) (1.4.1)\n",
            "Requirement already satisfied: multidict<7.0,>=4.5 in c:\\users\\lenovo\\appdata\\roaming\\python\\python311\\site-packages (from aiohttp->openai==0.27.9) (6.0.5)\n",
            "Requirement already satisfied: yarl<2.0,>=1.0 in c:\\users\\lenovo\\appdata\\roaming\\python\\python311\\site-packages (from aiohttp->openai==0.27.9) (1.9.4)\n",
            "Requirement already satisfied: colorama in c:\\users\\lenovo\\appdata\\roaming\\python\\python311\\site-packages (from tqdm->openai==0.27.9) (0.4.6)\n"
          ]
        }
      ],
      "source": [
        "!pip install openai==0.27.9"
      ]
    },
    {
      "cell_type": "code",
      "execution_count": 4,
      "metadata": {
        "id": "2rx0Kj6xJX4N"
      },
      "outputs": [],
      "source": [
        "function_descriptions = [\n",
        "    {\n",
        "          \"name\": \"move_group\",\n",
        "          \"description\": \"Gives the transalational(metres) movements and angular(radians) rotations in x,y and z axis.\",\n",
        "          \"parameters\": {\n",
        "              \"type\": \"object\",\n",
        "              \"properties\": {\n",
        "                  \"x\": {\n",
        "                      \"type\": \"object\",\n",
        "                      \"properties\": {\n",
        "                          \"value\":{\n",
        "                              \"type\": \"integer\",\n",
        "                              \"description\": \"Movement along x axis, the movement can be in +x axis(right) or in -x axis(left). \"\n",
        "                              },\n",
        "                          \"is_relative\":{\n",
        "                              \"type\": \"boolean\",\n",
        "                              \"description\": \"Specifies if the x-axis movement is relative\"\n",
        "                              }\n",
        "                          }\n",
        "                      },\n",
        "                  \"y\": {\n",
        "                      \"type\": \"object\",\n",
        "                      \"properties\": {\n",
        "                          \"value\":{\n",
        "                              \"type\": \"integer\",\n",
        "                              \"description\": \"Movement along y axis, the movement can be in +y axis(forward) or in -y axis(backward)\"\n",
        "                              },\n",
        "                          \"is_relative\":{\n",
        "                              \"type\": \"boolean\",\n",
        "                              \"description\": \"Specifies if the y-axis movement is relative\"\n",
        "                              }\n",
        "                          }\n",
        "                      },\n",
        "                  \"z\": {\n",
        "                      \"type\": \"object\",\n",
        "                      \"properties\": {\n",
        "                          \"value\":{\n",
        "                              \"type\": \"integer\",\n",
        "                              \"description\": \"Movement along z axis, the movement can be in +z axis(up) or in -z axis(down)\"\n",
        "                              },\n",
        "                          \"is_relative\":{\n",
        "                              \"type\": \"boolean\",\n",
        "                              \"description\": \"Specifies if the z-axis movement is relative\"\n",
        "                              }\n",
        "                          }\n",
        "                      },\n",
        "                  \"roll\": {\n",
        "                      \"type\": \"object\",\n",
        "                      \"properties\": {\n",
        "                          \"value\":{\n",
        "                              \"type\": \"integer\",\n",
        "                              \"description\": \"Rotation along x-axis(longitudinal axis), the movement can be in +x axis(positive) or in -x axis(negative)\"\n",
        "                              },\n",
        "                          \"is_relative\":{\n",
        "                              \"type\": \"boolean\",\n",
        "                              \"description\": \"Specifies if the rotation in x-axis is relative\"\n",
        "                              }\n",
        "                          }\n",
        "                      },\n",
        "                  \"pitch\": {\n",
        "                      \"type\": \"object\",\n",
        "                      \"properties\": {\n",
        "                          \"value\":{\n",
        "                              \"type\": \"integer\",\n",
        "                              \"description\": \"Rotation along y-axis(lateral axis), the movement can be in +y axis(positive/front) or in -y axis(negative/back)\"\n",
        "                              },\n",
        "                          \"is_relative\":{\n",
        "                              \"type\": \"boolean\",\n",
        "                              \"description\": \"Specifies if the rotation in y-axis is relative\"\n",
        "                              }\n",
        "                          }\n",
        "                      },\n",
        "                  \"yaw\": {\n",
        "                      \"type\": \"object\",\n",
        "                      \"properties\": {\n",
        "                          \"value\":{\n",
        "                              \"type\": \"integer\",\n",
        "                              \"description\": \"Rotation along z-axis(vertical axis), the movement can be in clockwise(-ve) or anti-clockwise(+ve)\"\n",
        "                              },\n",
        "                          \"is_relative\":{\n",
        "                              \"type\": \"boolean\",\n",
        "                              \"description\": \"Specifies if the rotation in z-axis is relative\"\n",
        "                              }\n",
        "                          }\n",
        "                      },\n",
        "                  }\n",
        "\n",
        "              }\n",
        "          }\n",
        "]"
      ]
    },
    {
      "cell_type": "code",
      "execution_count": null,
      "metadata": {
        "id": "we9cATWYCz5U"
      },
      "outputs": [],
      "source": [
        "import os\n",
        "import openai\n",
        "import json\n",
        "openai.api_key = \"\"\n",
        "\n",
        "def ask_function_calling(query):\n",
        "    messages = [{'role': 'system', 'content': \"You are a helpful assistant which maps the functions from given prompt. If no specific value is mentioned consider it as 0.05(linear(m)) and 0.1745(angular(radians)) respectively and if the word slightly or its synonyms are used then consider the value as 0.025(linear(m)) and 0.0872(angular(radians)) respectively.\"},\n",
        "                {'role': 'user', 'content': \"move left\"},\n",
        "                {'role': 'assistant', 'content': None, 'function_call': {\"name\": function_descriptions[0][\"name\"], \"arguments\": json.dumps({\"x\": {\"value\": -0.05, \"is_relative\": \"true\"}}, indent=2, ensure_ascii=False,)}},\n",
        "                {'role': 'user', 'content': \"move slightly up\"},\n",
        "                {'role': 'assistant', 'content': None, 'function_call': {\"name\": function_descriptions[0][\"name\"], \"arguments\": json.dumps({\"z\": {\"value\": 0.025, \"is_relative\": \"true\"}}, indent=2, ensure_ascii=False,)}},\n",
        "                {'role': 'user', 'content': \"x=2m\"},\n",
        "                {'role': 'assistant', 'content': None, 'function_call': {\"name\": function_descriptions[0][\"name\"], \"arguments\": json.dumps({\"x\": {\"value\": 2, \"is_relative\": \"false\"}}, indent=2, ensure_ascii=False,)}},\n",
        "                {'role': 'user', 'content': \"turn right by 45 degrees\"},\n",
        "                {'role': 'assistant', 'content': None, 'function_call': {\"name\": function_descriptions[0][\"name\"], \"arguments\": json.dumps({\"yaw\": {\"value\": 0.785398, \"is_relative\": \"true\"}}, indent=2, ensure_ascii=False,)}},\n",
        "                {'role': 'user', 'content': \"tilt left\"},\n",
        "                {'role': 'assistant', 'content': None, 'function_call': {\"name\": function_descriptions[0][\"name\"], \"arguments\": json.dumps({\"roll\": {\"value\": -0.1745, \"is_relative\": \"true\"}}, indent=2, ensure_ascii=False,)}},\n",
        "\n",
        "                {'role': 'user', 'content': \"tilt slightly back\"},\n",
        "                {'role': 'assistant', 'content': None, 'function_call': {\"name\": function_descriptions[0][\"name\"], \"arguments\": json.dumps({\"pitch\": {\"value\": -0.0872, \"is_relative\": \"true\"}}, indent=2, ensure_ascii=False,)}},\n",
        "                {'role': 'user', 'content': \"turn left slightly and roll to the right\"},\n",
        "                {'role': 'assistant', 'content': None, 'function_call': {\"name\": function_descriptions[0][\"name\"], \"arguments\": json.dumps({\"yaw\": {\"value\": -0.0872, \"is_relative\": \"true\"}, \"roll\": {\"value\": 0.1745, \"is_relative\": \"true\"}}, indent=2, ensure_ascii=False,)}},\n",
        "                {'role': 'user', 'content': \"move to x=2 and pitch up\"},\n",
        "                {'role': 'assistant', 'content': None, 'function_call': {\"name\": function_descriptions[0][\"name\"], \"arguments\": json.dumps({\"x\": {\"value\": 2, \"is_relative\": \"false\"}, \"pitch\": {\"value\": 0.1745, \"is_relative\": \"true\"}}, indent=2, ensure_ascii=False,)}},\n",
        "                {'role': 'user', 'content': \"take 10m forward, x=10cm\"},\n",
        "                {'role': 'assistant', 'content': None, 'function_call': {\"name\": function_descriptions[0][\"name\"], \"arguments\": json.dumps({\"y\": {\"value\": 10, \"is_relative\": \"true\"}, \"x\": {\"value\": 0.1, \"is_relative\": \"false\"}}, indent=2, ensure_ascii=False,)}},\n",
        "                \n",
        "                {'role': 'user', 'content': \"take left and go slightly up\"},\n",
        "                {'role': 'assistant', 'content': None, 'function_call': {\"name\": function_descriptions[0][\"name\"], \"arguments\": json.dumps({\"x\": {\"value\": -0.05, \"is_relative\": \"true\"}, \"z\": {\"value\": 0.025, \"is_relative\": \"true\"}}, indent=2, ensure_ascii=False,)}},\n",
        "                {'role': 'user', 'content': \"move 0.7m back-right with relative yaw angle of 36 degree\"},\n",
        "                {'role': 'assistant', 'content': None, 'function_call': {\"name\": function_descriptions[0][\"name\"], \"arguments\": json.dumps({\"y\": {\"value\": -0.7, \"is_relative\": \"true\"}, \"x\": {\"value\": 0.7 , \"is_relative\": \"true\"}, \"yaw\": {\"value\": 0.628 , \"is_relative\": \"true\"}}, indent=2, ensure_ascii=False,)}},\n",
        "                {'role': 'user', 'content': \"pitch up and roll =20 degrees\"},\n",
        "                {'role': 'assistant', 'content': None, 'function_call': {\"name\": function_descriptions[0][\"name\"], \"arguments\": json.dumps({\"x\": {\"value\": 0.1745, \"is_relative\": \"true\"}, \"roll\": {\"value\": 0.349, \"is_relative\": \"false\"}}, indent=2, ensure_ascii=False,)}},\n",
        "                {'role': 'user', 'content': \"turn slightly left and move up.\"},\n",
        "                {'role': 'assistant', 'content': None, 'function_call': {\"name\": function_descriptions[0][\"name\"], \"arguments\": json.dumps({\"yaw\": {\"value\": -0.0872, \"is_relative\": \"true\"}, \"z\": {\"value\": 0.05, \"is_relative\": \"true\"}}, indent=2, ensure_ascii=False,)}},\n",
        "                {'role': 'user', 'content': \"go back and turn right\"},\n",
        "                {'role': 'assistant', 'content': None, 'function_call': {\"name\": function_descriptions[0][\"name\"], \"arguments\": json.dumps({\"y\": {\"value\": -0.05, \"is_relative\": \"true\"}, \"yaw\": {\"value\": 1.745, \"is_relative\": \"true\"}}, indent=2, ensure_ascii=False,)}},\n",
        "\n",
        "                {\"role\": \"user\", \"content\": query}]\n",
        "\n",
        "    response = openai.ChatCompletion.create(\n",
        "        #model=\"gpt-4-0613\",\n",
        "        model=\"gpt-3.5-turbo\",\n",
        "        #model=\"ft:gpt-3.5-turbo-1106:personal::8I6DkI3i\",\n",
        "        #model=\"ft:gpt-3.5-turbo-0613:personal::8Hrl7i9W\",\n",
        "        messages=messages,\n",
        "        temperature=0,\n",
        "        functions=function_descriptions,\n",
        "        function_call=\"auto\"\n",
        "    )\n",
        "    print(response[\"choices\"][0][\"message\"])\n",
        "    if response[\"choices\"][0][\"finish_reason\"] == \"function_call\":\n",
        "        function_name = response[\"choices\"][0][\"message\"][\"function_call\"][\"name\"]\n",
        "        function_arguments_dict = eval(response[\"choices\"][0][\"message\"][\"function_call\"][\"arguments\"])\n",
        "\n",
        "        # Extract the parameter descriptions for the called function\n",
        "        params_description = next((f[\"parameters\"][\"properties\"] for f in function_descriptions if f[\"name\"] == function_name), {})\n",
        "\n",
        "        formatted_args = []\n",
        "\n",
        "        for arg, val in function_arguments_dict.items():\n",
        "            formatted_args.append(f'{arg}={val}')\n",
        "\n",
        "        formatted_function_call = f\"{function_name}({', '.join(formatted_args)})\"\n",
        "        print(formatted_function_call)\n",
        "\n",
        "    else:\n",
        "        print(\"No output\")"
      ]
    },
    {
      "cell_type": "code",
      "execution_count": 5,
      "metadata": {
        "colab": {
          "base_uri": "https://localhost:8080/"
        },
        "id": "aNrXcFY-KZX0",
        "outputId": "34bbc73e-152d-4a22-94ba-7d5a2ba51c8d"
      },
      "outputs": [
        {
          "name": "stdout",
          "output_type": "stream",
          "text": [
            "{\n",
            "  \"role\": \"assistant\",\n",
            "  \"content\": null,\n",
            "  \"function_call\": {\n",
            "    \"name\": \"move_group\",\n",
            "    \"arguments\": \"{\\\"yaw\\\":{\\\"value\\\":-0.0872,\\\"is_relative\\\":\\\"true\\\"},\\\"roll\\\":{\\\"value\\\":0.349,\\\"is_relative\\\":\\\"true\\\"}}\"\n",
            "  }\n",
            "}\n",
            "move_group(yaw={'value': -0.0872, 'is_relative': 'true'}, roll={'value': 0.349, 'is_relative': 'true'})\n",
            "None\n"
          ]
        }
      ],
      "source": [
        "prompt = \"\"\"turn left slightly and roll to the right\"\"\"\n",
        "print(ask_function_calling(prompt))"
      ]
    },
    {
      "cell_type": "code",
      "execution_count": 6,
      "metadata": {
        "colab": {
          "base_uri": "https://localhost:8080/"
        },
        "id": "oqOGLWz0am5Z",
        "outputId": "4cc42fd2-3fca-433b-98d0-cb597a00e9f2"
      },
      "outputs": [
        {
          "name": "stdout",
          "output_type": "stream",
          "text": [
            "{\n",
            "  \"role\": \"assistant\",\n",
            "  \"content\": null,\n",
            "  \"function_call\": {\n",
            "    \"name\": \"move_group\",\n",
            "    \"arguments\": \"{\\\"y\\\":{\\\"value\\\":-2,\\\"is_relative\\\":\\\"false\\\"}}\"\n",
            "  }\n",
            "}\n",
            "move_group(y={'value': -2, 'is_relative': 'false'})\n",
            "None\n"
          ]
        }
      ],
      "source": [
        "prompt = \"\"\"y=-2m\"\"\" #correct\n",
        "print(ask_function_calling(prompt))"
      ]
    },
    {
      "cell_type": "code",
      "execution_count": 7,
      "metadata": {
        "colab": {
          "base_uri": "https://localhost:8080/"
        },
        "id": "Cu3E9JK8hJWj",
        "outputId": "97a04216-a49d-4c66-9900-2455357aa868"
      },
      "outputs": [
        {
          "name": "stdout",
          "output_type": "stream",
          "text": [
            "{\n",
            "  \"role\": \"assistant\",\n",
            "  \"content\": null,\n",
            "  \"function_call\": {\n",
            "    \"name\": \"move_group\",\n",
            "    \"arguments\": \"{\\\"y\\\":{\\\"value\\\":2,\\\"is_relative\\\":\\\"false\\\"},\\\"x\\\":{\\\"value\\\":-2,\\\"is_relative\\\":\\\"false\\\"}}\"\n",
            "  }\n",
            "}\n",
            "move_group(y={'value': 2, 'is_relative': 'false'}, x={'value': -2, 'is_relative': 'false'})\n",
            "None\n"
          ]
        }
      ],
      "source": [
        "prompt = \"\"\"y=2m, x=-2m\"\"\" #correct\n",
        "print(ask_function_calling(prompt))"
      ]
    },
    {
      "cell_type": "code",
      "execution_count": 8,
      "metadata": {
        "colab": {
          "base_uri": "https://localhost:8080/"
        },
        "id": "wD0_ChHRhR7V",
        "outputId": "255ecc6d-82d0-4a57-b37b-3ce3121db132"
      },
      "outputs": [
        {
          "name": "stdout",
          "output_type": "stream",
          "text": [
            "{\n",
            "  \"role\": \"assistant\",\n",
            "  \"content\": null,\n",
            "  \"function_call\": {\n",
            "    \"name\": \"move_group\",\n",
            "    \"arguments\": \"{\\\"z\\\":{\\\"value\\\":0.025,\\\"is_relative\\\":\\\"true\\\"}}\"\n",
            "  }\n",
            "}\n",
            "move_group(z={'value': 0.025, 'is_relative': 'true'})\n",
            "None\n"
          ]
        }
      ],
      "source": [
        "prompt = \"\"\"move slightly up\"\"\"#correct\n",
        "print(ask_function_calling(prompt))"
      ]
    },
    {
      "cell_type": "code",
      "execution_count": 9,
      "metadata": {
        "colab": {
          "base_uri": "https://localhost:8080/"
        },
        "id": "4_GHehglhVuZ",
        "outputId": "74a80de9-724f-4bac-e405-4d85763ca356"
      },
      "outputs": [
        {
          "name": "stdout",
          "output_type": "stream",
          "text": [
            "{\n",
            "  \"role\": \"assistant\",\n",
            "  \"content\": null,\n",
            "  \"function_call\": {\n",
            "    \"name\": \"move_group\",\n",
            "    \"arguments\": \"{\\\"z\\\":{\\\"value\\\":-12,\\\"is_relative\\\":\\\"false\\\"}}\"\n",
            "  }\n",
            "}\n",
            "move_group(z={'value': -12, 'is_relative': 'false'})\n",
            "None\n"
          ]
        }
      ],
      "source": [
        "prompt = \"\"\"z=-12m\"\"\"#correct\n",
        "print(ask_function_calling(prompt))"
      ]
    },
    {
      "cell_type": "code",
      "execution_count": 66,
      "metadata": {
        "colab": {
          "base_uri": "https://localhost:8080/"
        },
        "id": "4F0R6ZGmhdyh",
        "outputId": "c76a14b6-1950-4806-a962-fe9f648b229b"
      },
      "outputs": [
        {
          "name": "stdout",
          "output_type": "stream",
          "text": [
            "{\n",
            "  \"role\": \"assistant\",\n",
            "  \"content\": null,\n",
            "  \"function_call\": {\n",
            "    \"name\": \"move_group\",\n",
            "    \"arguments\": \"{\\\"y\\\":{\\\"value\\\":-0.025,\\\"is_relative\\\":\\\"true\\\"}}\"\n",
            "  }\n",
            "}\n",
            "move_group(y={'value': -0.025, 'is_relative': 'true'})\n",
            "None\n"
          ]
        }
      ],
      "source": [
        "#INCORRECT\n",
        "prompt = \"\"\"Take the arm slightly left\"\"\"#correct\n",
        "print(ask_function_calling(prompt))"
      ]
    },
    {
      "cell_type": "code",
      "execution_count": 68,
      "metadata": {
        "colab": {
          "base_uri": "https://localhost:8080/"
        },
        "id": "f9NZ859Shobq",
        "outputId": "d7487b06-cc2c-4ab7-962c-9ffe79380be0"
      },
      "outputs": [
        {
          "name": "stdout",
          "output_type": "stream",
          "text": [
            "{\n",
            "  \"role\": \"assistant\",\n",
            "  \"content\": null,\n",
            "  \"function_call\": {\n",
            "    \"name\": \"move_group\",\n",
            "    \"arguments\": \"{\\\"roll\\\":{\\\"value\\\":-0.524,\\\"is_relative\\\":\\\"false\\\"}}\"\n",
            "  }\n",
            "}\n",
            "move_group(roll={'value': -0.524, 'is_relative': 'false'})\n",
            "None\n"
          ]
        }
      ],
      "source": [
        "#INCORRECT\n",
        "prompt = \"\"\"tilt the manipulator to 30 degrees left\"\"\"#correct\n",
        "print(ask_function_calling(prompt))"
      ]
    },
    {
      "cell_type": "code",
      "execution_count": 12,
      "metadata": {
        "colab": {
          "base_uri": "https://localhost:8080/"
        },
        "id": "vFfUyHzwhu6i",
        "outputId": "293499e2-d8ea-4b2f-e8d6-68cae51de2d6"
      },
      "outputs": [
        {
          "name": "stdout",
          "output_type": "stream",
          "text": [
            "{\n",
            "  \"role\": \"assistant\",\n",
            "  \"content\": null,\n",
            "  \"function_call\": {\n",
            "    \"name\": \"move_group\",\n",
            "    \"arguments\": \"{\\\"z\\\":{\\\"value\\\":-0.05,\\\"is_relative\\\":\\\"true\\\"}}\"\n",
            "  }\n",
            "}\n",
            "move_group(z={'value': -0.05, 'is_relative': 'true'})\n",
            "None\n"
          ]
        }
      ],
      "source": [
        "#CORRECT\n",
        "prompt = \"\"\"Move the arm down from the current position\"\"\"#incorrect\n",
        "print(ask_function_calling(prompt))"
      ]
    },
    {
      "cell_type": "code",
      "execution_count": 13,
      "metadata": {
        "colab": {
          "base_uri": "https://localhost:8080/"
        },
        "id": "lwSX_mZlh0ek",
        "outputId": "acbfa912-134e-4ab4-ad9d-81ea6ff3c397"
      },
      "outputs": [
        {
          "name": "stdout",
          "output_type": "stream",
          "text": [
            "{\n",
            "  \"role\": \"assistant\",\n",
            "  \"content\": null,\n",
            "  \"function_call\": {\n",
            "    \"name\": \"move_group\",\n",
            "    \"arguments\": \"{\\\"z\\\":{\\\"value\\\":7,\\\"is_relative\\\":\\\"false\\\"},\\\"x\\\":{\\\"value\\\":5,\\\"is_relative\\\":\\\"false\\\"}}\"\n",
            "  }\n",
            "}\n",
            "move_group(z={'value': 7, 'is_relative': 'false'}, x={'value': 5, 'is_relative': 'false'})\n",
            "None\n"
          ]
        }
      ],
      "source": [
        "prompt = \"\"\"z=7m, x=5m\"\"\" #corret\n",
        "print(ask_function_calling(prompt))"
      ]
    },
    {
      "cell_type": "code",
      "execution_count": 14,
      "metadata": {
        "colab": {
          "base_uri": "https://localhost:8080/"
        },
        "id": "nGRGjSBqh6aP",
        "outputId": "d15748ba-e62d-4cc9-a035-aa8d49580fa3"
      },
      "outputs": [
        {
          "name": "stdout",
          "output_type": "stream",
          "text": [
            "{\n",
            "  \"role\": \"assistant\",\n",
            "  \"content\": null,\n",
            "  \"function_call\": {\n",
            "    \"name\": \"move_group\",\n",
            "    \"arguments\": \"{\\\"x\\\":{\\\"value\\\":5,\\\"is_relative\\\":\\\"false\\\"},\\\"y\\\":{\\\"value\\\":10,\\\"is_relative\\\":\\\"false\\\"}}\"\n",
            "  }\n",
            "}\n",
            "move_group(x={'value': 5, 'is_relative': 'false'}, y={'value': 10, 'is_relative': 'false'})\n",
            "None\n"
          ]
        }
      ],
      "source": [
        "\n",
        "prompt = \"\"\"x=5m, y=10m\"\"\"#correct\n",
        "print(ask_function_calling(prompt))\n"
      ]
    },
    {
      "cell_type": "code",
      "execution_count": 15,
      "metadata": {
        "colab": {
          "base_uri": "https://localhost:8080/"
        },
        "id": "LqU3BfL0iC6m",
        "outputId": "df726b2f-d60c-42db-cd84-0d93bd6b35d1"
      },
      "outputs": [
        {
          "name": "stdout",
          "output_type": "stream",
          "text": [
            "{\n",
            "  \"role\": \"assistant\",\n",
            "  \"content\": null,\n",
            "  \"function_call\": {\n",
            "    \"name\": \"move_group\",\n",
            "    \"arguments\": \"{\\\"x\\\":{\\\"value\\\":0.5,\\\"is_relative\\\":\\\"false\\\"}}\"\n",
            "  }\n",
            "}\n",
            "move_group(x={'value': 0.5, 'is_relative': 'false'})\n",
            "None\n"
          ]
        }
      ],
      "source": [
        "prompt = \"\"\"go to x=0.5\"\"\"#correct\n",
        "print(ask_function_calling(prompt))"
      ]
    },
    {
      "cell_type": "code",
      "execution_count": 16,
      "metadata": {
        "colab": {
          "base_uri": "https://localhost:8080/"
        },
        "id": "INfzrQdGiIaE",
        "outputId": "689fc8f0-1c24-42b2-8d2c-b549dfd1510e"
      },
      "outputs": [
        {
          "name": "stdout",
          "output_type": "stream",
          "text": [
            "{\n",
            "  \"role\": \"assistant\",\n",
            "  \"content\": null,\n",
            "  \"function_call\": {\n",
            "    \"name\": \"move_group\",\n",
            "    \"arguments\": \"{\\\"y\\\":{\\\"value\\\":10,\\\"is_relative\\\":\\\"true\\\"}}\"\n",
            "  }\n",
            "}\n",
            "move_group(y={'value': 10, 'is_relative': 'true'})\n",
            "None\n"
          ]
        }
      ],
      "source": [
        "prompt = \"\"\"Move 10m forward\"\"\" #correct\n",
        "print(ask_function_calling(prompt))"
      ]
    },
    {
      "cell_type": "code",
      "execution_count": 17,
      "metadata": {
        "colab": {
          "base_uri": "https://localhost:8080/"
        },
        "id": "j4CCBcAqiNKF",
        "outputId": "0a0483bd-e6d3-4522-941d-7bb10d6f6c61"
      },
      "outputs": [
        {
          "name": "stdout",
          "output_type": "stream",
          "text": [
            "{\n",
            "  \"role\": \"assistant\",\n",
            "  \"content\": null,\n",
            "  \"function_call\": {\n",
            "    \"name\": \"move_group\",\n",
            "    \"arguments\": \"{\\\"z\\\":{\\\"value\\\":0.2,\\\"is_relative\\\":\\\"true\\\"}}\"\n",
            "  }\n",
            "}\n",
            "move_group(z={'value': 0.2, 'is_relative': 'true'})\n",
            "None\n"
          ]
        }
      ],
      "source": [
        "prompt = \"\"\"move up by 0.2m\"\"\"#correct\n",
        "print(ask_function_calling(prompt))"
      ]
    },
    {
      "cell_type": "code",
      "execution_count": 18,
      "metadata": {
        "colab": {
          "base_uri": "https://localhost:8080/"
        },
        "id": "u5x6MKXoiTyM",
        "outputId": "89d7bd03-12d9-4ea7-8a8f-75d6e81607f1"
      },
      "outputs": [
        {
          "name": "stdout",
          "output_type": "stream",
          "text": [
            "{\n",
            "  \"role\": \"assistant\",\n",
            "  \"content\": null,\n",
            "  \"function_call\": {\n",
            "    \"name\": \"move_group\",\n",
            "    \"arguments\": \"{\\\"y\\\":{\\\"value\\\":0.025,\\\"is_relative\\\":\\\"true\\\"}}\"\n",
            "  }\n",
            "}\n",
            "move_group(y={'value': 0.025, 'is_relative': 'true'})\n",
            "None\n"
          ]
        }
      ],
      "source": [
        "#CORRECT\n",
        "prompt = \"\"\"go forward slightly\"\"\" #incorrect\n",
        "print(ask_function_calling(prompt))"
      ]
    },
    {
      "cell_type": "code",
      "execution_count": 19,
      "metadata": {
        "colab": {
          "base_uri": "https://localhost:8080/"
        },
        "id": "k1yeMUzmibBV",
        "outputId": "1c05472d-6324-4a77-8964-76efff7f9634"
      },
      "outputs": [
        {
          "name": "stdout",
          "output_type": "stream",
          "text": [
            "{\n",
            "  \"role\": \"assistant\",\n",
            "  \"content\": null,\n",
            "  \"function_call\": {\n",
            "    \"name\": \"move_group\",\n",
            "    \"arguments\": \"{\\\"y\\\":{\\\"value\\\":-0.2,\\\"is_relative\\\":\\\"true\\\"}}\"\n",
            "  }\n",
            "}\n",
            "move_group(y={'value': -0.2, 'is_relative': 'true'})\n",
            "None\n"
          ]
        }
      ],
      "source": [
        "prompt = \"\"\"go back by 0.2m\"\"\" #correct\n",
        "print(ask_function_calling(prompt))"
      ]
    },
    {
      "cell_type": "code",
      "execution_count": 20,
      "metadata": {
        "colab": {
          "base_uri": "https://localhost:8080/"
        },
        "id": "mQdQ5Zyhie65",
        "outputId": "b1c8de2e-6df8-42d4-fbc4-d23bcb4bd194"
      },
      "outputs": [
        {
          "name": "stdout",
          "output_type": "stream",
          "text": [
            "{\n",
            "  \"role\": \"assistant\",\n",
            "  \"content\": null,\n",
            "  \"function_call\": {\n",
            "    \"name\": \"move_group\",\n",
            "    \"arguments\": \"{\\\"z\\\":{\\\"value\\\":-0.5,\\\"is_relative\\\":\\\"false\\\"}}\"\n",
            "  }\n",
            "}\n",
            "move_group(z={'value': -0.5, 'is_relative': 'false'})\n",
            "None\n"
          ]
        }
      ],
      "source": [
        "prompt = \"\"\"go to z=-0.5\"\"\" #correct\n",
        "print(ask_function_calling(prompt))"
      ]
    },
    {
      "cell_type": "code",
      "execution_count": 21,
      "metadata": {
        "colab": {
          "base_uri": "https://localhost:8080/"
        },
        "id": "p4Y0UdVFik9N",
        "outputId": "fde258fa-153a-469d-884d-d22db03fd80c"
      },
      "outputs": [
        {
          "name": "stdout",
          "output_type": "stream",
          "text": [
            "{\n",
            "  \"role\": \"assistant\",\n",
            "  \"content\": null,\n",
            "  \"function_call\": {\n",
            "    \"name\": \"move_group\",\n",
            "    \"arguments\": \"{\\\"z\\\":{\\\"value\\\":-0.2,\\\"is_relative\\\":\\\"false\\\"},\\\"x\\\":{\\\"value\\\":0.1,\\\"is_relative\\\":\\\"false\\\"}}\"\n",
            "  }\n",
            "}\n",
            "move_group(z={'value': -0.2, 'is_relative': 'false'}, x={'value': 0.1, 'is_relative': 'false'})\n",
            "None\n"
          ]
        }
      ],
      "source": [
        "prompt = \"\"\"go to z=-0.2 and x=0.1\"\"\"#correct\n",
        "print(ask_function_calling(prompt))"
      ]
    },
    {
      "cell_type": "code",
      "execution_count": 70,
      "metadata": {
        "colab": {
          "base_uri": "https://localhost:8080/"
        },
        "id": "AwhCFma-io7k",
        "outputId": "6f18db19-3d75-42bb-a17e-ce484fe2cd42"
      },
      "outputs": [
        {
          "name": "stdout",
          "output_type": "stream",
          "text": [
            "{\n",
            "  \"role\": \"assistant\",\n",
            "  \"content\": null,\n",
            "  \"function_call\": {\n",
            "    \"name\": \"move_group\",\n",
            "    \"arguments\": \"{\\\"y\\\":{\\\"value\\\":-5,\\\"is_relative\\\":\\\"true\\\"}}\"\n",
            "  }\n",
            "}\n",
            "move_group(y={'value': -5, 'is_relative': 'true'})\n",
            "None\n"
          ]
        }
      ],
      "source": [
        "#INCORRECT\n",
        "prompt = \"\"\"Move the arm 5m towards left\"\"\"#correct\n",
        "print(ask_function_calling(prompt))"
      ]
    },
    {
      "cell_type": "code",
      "execution_count": 23,
      "metadata": {
        "colab": {
          "base_uri": "https://localhost:8080/"
        },
        "id": "vyTiOftJitqM",
        "outputId": "5187ae06-0681-4da5-a674-b87138561a71"
      },
      "outputs": [
        {
          "name": "stdout",
          "output_type": "stream",
          "text": [
            "{\n",
            "  \"role\": \"assistant\",\n",
            "  \"content\": null,\n",
            "  \"function_call\": {\n",
            "    \"name\": \"move_group\",\n",
            "    \"arguments\": \"{\\\"x\\\":{\\\"value\\\":-0.1,\\\"is_relative\\\":\\\"true\\\"}}\"\n",
            "  }\n",
            "}\n",
            "move_group(x={'value': -0.1, 'is_relative': 'true'})\n",
            "None\n"
          ]
        }
      ],
      "source": [
        "prompt = \"\"\"take 0.1m left\"\"\"#correct\n",
        "print(ask_function_calling(prompt))"
      ]
    },
    {
      "cell_type": "code",
      "execution_count": 24,
      "metadata": {
        "colab": {
          "base_uri": "https://localhost:8080/"
        },
        "id": "pddaLVuoizEt",
        "outputId": "7fefe341-6412-4b72-fdf2-899372e12bfe"
      },
      "outputs": [
        {
          "name": "stdout",
          "output_type": "stream",
          "text": [
            "{\n",
            "  \"role\": \"assistant\",\n",
            "  \"content\": null,\n",
            "  \"function_call\": {\n",
            "    \"name\": \"move_group\",\n",
            "    \"arguments\": \"{\\\"y\\\":{\\\"value\\\":0.05,\\\"is_relative\\\":\\\"true\\\"}}\"\n",
            "  }\n",
            "}\n",
            "move_group(y={'value': 0.05, 'is_relative': 'true'})\n",
            "None\n"
          ]
        }
      ],
      "source": [
        "prompt = \"\"\"go front\"\"\"#incorrect\n",
        "print(ask_function_calling(prompt))"
      ]
    },
    {
      "cell_type": "code",
      "execution_count": 25,
      "metadata": {
        "colab": {
          "base_uri": "https://localhost:8080/"
        },
        "id": "utlMmKDBi4hT",
        "outputId": "278e3115-c0a8-41ac-d8ee-25ac6fefe002"
      },
      "outputs": [
        {
          "name": "stdout",
          "output_type": "stream",
          "text": [
            "{\n",
            "  \"role\": \"assistant\",\n",
            "  \"content\": null,\n",
            "  \"function_call\": {\n",
            "    \"name\": \"move_group\",\n",
            "    \"arguments\": \"{\\\"x\\\":{\\\"value\\\":-0.025,\\\"is_relative\\\":\\\"true\\\"}}\"\n",
            "  }\n",
            "}\n",
            "move_group(x={'value': -0.025, 'is_relative': 'true'})\n",
            "None\n"
          ]
        }
      ],
      "source": [
        "prompt = \"\"\"move slightly left\"\"\"#incorrct\n",
        "print(ask_function_calling(prompt))"
      ]
    },
    {
      "cell_type": "code",
      "execution_count": 26,
      "metadata": {
        "colab": {
          "base_uri": "https://localhost:8080/"
        },
        "id": "bQGri_9ujH8J",
        "outputId": "7f185721-b87d-48b6-8e43-15e5bba0d7ff"
      },
      "outputs": [
        {
          "name": "stdout",
          "output_type": "stream",
          "text": [
            "{\n",
            "  \"role\": \"assistant\",\n",
            "  \"content\": null,\n",
            "  \"function_call\": {\n",
            "    \"name\": \"move_group\",\n",
            "    \"arguments\": \"{\\\"x\\\":{\\\"value\\\":0.1,\\\"is_relative\\\":\\\"true\\\"}}\"\n",
            "  }\n",
            "}\n",
            "move_group(x={'value': 0.1, 'is_relative': 'true'})\n",
            "None\n"
          ]
        }
      ],
      "source": [
        "prompt = \"\"\"move right by 0.1m\"\"\"#correct\n",
        "print(ask_function_calling(prompt))"
      ]
    },
    {
      "cell_type": "code",
      "execution_count": 27,
      "metadata": {
        "colab": {
          "base_uri": "https://localhost:8080/"
        },
        "id": "cGawD7_8jL82",
        "outputId": "a8148d61-5535-49e1-8f9d-91fdd04a6a93"
      },
      "outputs": [
        {
          "name": "stdout",
          "output_type": "stream",
          "text": [
            "{\n",
            "  \"role\": \"assistant\",\n",
            "  \"content\": null,\n",
            "  \"function_call\": {\n",
            "    \"name\": \"move_group\",\n",
            "    \"arguments\": \"{\\\"yaw\\\":{\\\"value\\\":-0.1745,\\\"is_relative\\\":\\\"true\\\"}}\"\n",
            "  }\n",
            "}\n",
            "move_group(yaw={'value': -0.1745, 'is_relative': 'true'})\n",
            "None\n"
          ]
        }
      ],
      "source": [
        "prompt = \"\"\"rotate to the left by 10 degrees\"\"\"#correct\n",
        "print(ask_function_calling(prompt))"
      ]
    },
    {
      "cell_type": "code",
      "execution_count": 28,
      "metadata": {
        "colab": {
          "base_uri": "https://localhost:8080/"
        },
        "id": "XbviM87gjQ_V",
        "outputId": "f6c73208-46e6-4794-873b-7d4481568f2e"
      },
      "outputs": [
        {
          "name": "stdout",
          "output_type": "stream",
          "text": [
            "{\n",
            "  \"role\": \"assistant\",\n",
            "  \"content\": null,\n",
            "  \"function_call\": {\n",
            "    \"name\": \"move_group\",\n",
            "    \"arguments\": \"{\\\"yaw\\\":{\\\"value\\\":-0.0872,\\\"is_relative\\\":\\\"true\\\"}}\"\n",
            "  }\n",
            "}\n",
            "move_group(yaw={'value': -0.0872, 'is_relative': 'true'})\n",
            "None\n"
          ]
        }
      ],
      "source": [
        "prompt = \"\"\"yaw left slightly\"\"\" #correct\n",
        "print(ask_function_calling(prompt))"
      ]
    },
    {
      "cell_type": "code",
      "execution_count": 29,
      "metadata": {
        "colab": {
          "base_uri": "https://localhost:8080/"
        },
        "id": "a1yEtwQMjUuG",
        "outputId": "922407ea-9487-4a24-e0d0-0b243b6b1db7"
      },
      "outputs": [
        {
          "name": "stdout",
          "output_type": "stream",
          "text": [
            "{\n",
            "  \"role\": \"assistant\",\n",
            "  \"content\": null,\n",
            "  \"function_call\": {\n",
            "    \"name\": \"move_group\",\n",
            "    \"arguments\": \"{\\\"pitch\\\":{\\\"value\\\":0.0872,\\\"is_relative\\\":\\\"true\\\"}}\"\n",
            "  }\n",
            "}\n",
            "move_group(pitch={'value': 0.0872, 'is_relative': 'true'})\n",
            "None\n"
          ]
        }
      ],
      "source": [
        "prompt = \"\"\"pitch upwards by 5 degrees\"\"\"#correct\n",
        "print(ask_function_calling(prompt))"
      ]
    },
    {
      "cell_type": "code",
      "execution_count": 30,
      "metadata": {
        "colab": {
          "base_uri": "https://localhost:8080/"
        },
        "id": "4Gr3WyUyjZ1q",
        "outputId": "07f34af2-75a5-46cc-d7ad-b99f73240855"
      },
      "outputs": [
        {
          "name": "stdout",
          "output_type": "stream",
          "text": [
            "{\n",
            "  \"role\": \"assistant\",\n",
            "  \"content\": null,\n",
            "  \"function_call\": {\n",
            "    \"name\": \"move_group\",\n",
            "    \"arguments\": \"{\\\"pitch\\\":{\\\"value\\\":0.698,\\\"is_relative\\\":\\\"false\\\"}}\"\n",
            "  }\n",
            "}\n",
            "move_group(pitch={'value': 0.698, 'is_relative': 'false'})\n",
            "None\n"
          ]
        }
      ],
      "source": [
        "prompt = \"\"\"pitch=40 degrees\"\"\"#correct\n",
        "print(ask_function_calling(prompt))"
      ]
    },
    {
      "cell_type": "code",
      "execution_count": 31,
      "metadata": {
        "id": "IkatDYf8ltq1"
      },
      "outputs": [],
      "source": [
        "#####LINEAR LINEAR####"
      ]
    },
    {
      "cell_type": "code",
      "execution_count": 32,
      "metadata": {
        "colab": {
          "base_uri": "https://localhost:8080/"
        },
        "id": "FsExkaCSl6eL",
        "outputId": "022df9b1-9508-4c2c-ec49-6ed665f71022"
      },
      "outputs": [
        {
          "name": "stdout",
          "output_type": "stream",
          "text": [
            "{\n",
            "  \"role\": \"assistant\",\n",
            "  \"content\": null,\n",
            "  \"function_call\": {\n",
            "    \"name\": \"move_group\",\n",
            "    \"arguments\": \"{\\\"y\\\":{\\\"value\\\":0.2,\\\"is_relative\\\":\\\"false\\\"},\\\"x\\\":{\\\"value\\\":0.1,\\\"is_relative\\\":\\\"false\\\"}}\"\n",
            "  }\n",
            "}\n",
            "move_group(y={'value': 0.2, 'is_relative': 'false'}, x={'value': 0.1, 'is_relative': 'false'})\n",
            "None\n"
          ]
        }
      ],
      "source": [
        "prompt = \"\"\"move to y=0.2, x=0.1\"\"\" #corretc\n",
        "print(ask_function_calling(prompt))"
      ]
    },
    {
      "cell_type": "code",
      "execution_count": 33,
      "metadata": {
        "colab": {
          "base_uri": "https://localhost:8080/"
        },
        "id": "heUFMSaHmB4B",
        "outputId": "7a1847ca-4a8d-45e5-c593-460019467577"
      },
      "outputs": [
        {
          "name": "stdout",
          "output_type": "stream",
          "text": [
            "{\n",
            "  \"role\": \"assistant\",\n",
            "  \"content\": null,\n",
            "  \"function_call\": {\n",
            "    \"name\": \"move_group\",\n",
            "    \"arguments\": \"{\\\"y\\\":{\\\"value\\\":10,\\\"is_relative\\\":\\\"true\\\"},\\\"x\\\":{\\\"value\\\":-20,\\\"is_relative\\\":\\\"true\\\"}}\"\n",
            "  }\n",
            "}\n",
            "move_group(y={'value': 10, 'is_relative': 'true'}, x={'value': -20, 'is_relative': 'true'})\n",
            "None\n"
          ]
        }
      ],
      "source": [
        "prompt = \"\"\"move 10m forward, take 20m left\"\"\"#incorrect\n",
        "print(ask_function_calling(prompt))"
      ]
    },
    {
      "cell_type": "code",
      "execution_count": 72,
      "metadata": {
        "colab": {
          "base_uri": "https://localhost:8080/"
        },
        "id": "jS90wD_GmKs8",
        "outputId": "ace660ce-0df9-43f2-8d5f-0c901e0fb423"
      },
      "outputs": [
        {
          "name": "stdout",
          "output_type": "stream",
          "text": [
            "{\n",
            "  \"role\": \"assistant\",\n",
            "  \"content\": null,\n",
            "  \"function_call\": {\n",
            "    \"name\": \"move_group\",\n",
            "    \"arguments\": \"{\\\"y\\\":{\\\"value\\\":0.3,\\\"is_relative\\\":\\\"true\\\"},\\\"yaw\\\":{\\\"value\\\":-1.745,\\\"is_relative\\\":\\\"true\\\"}}\"\n",
            "  }\n",
            "}\n",
            "move_group(y={'value': 0.3, 'is_relative': 'true'}, yaw={'value': -1.745, 'is_relative': 'true'})\n",
            "None\n"
          ]
        }
      ],
      "source": [
        "#INCORRECT\n",
        "prompt = \"\"\"go straight for 0.3m and take right\"\"\"#incorrect\n",
        "print(ask_function_calling(prompt))"
      ]
    },
    {
      "cell_type": "code",
      "execution_count": 73,
      "metadata": {
        "colab": {
          "base_uri": "https://localhost:8080/"
        },
        "id": "NKIn9ZmZmPXw",
        "outputId": "54667a2e-561e-4ae1-b21f-d73e4a4d6305"
      },
      "outputs": [
        {
          "name": "stdout",
          "output_type": "stream",
          "text": [
            "{\n",
            "  \"role\": \"assistant\",\n",
            "  \"content\": null,\n",
            "  \"function_call\": {\n",
            "    \"name\": \"move_group\",\n",
            "    \"arguments\": \"{\\\"y\\\":{\\\"value\\\":0.05,\\\"is_relative\\\":\\\"true\\\"},\\\"yaw\\\":{\\\"value\\\":-0.0872,\\\"is_relative\\\":\\\"true\\\"}}\"\n",
            "  }\n",
            "}\n",
            "move_group(y={'value': 0.05, 'is_relative': 'true'}, yaw={'value': -0.0872, 'is_relative': 'true'})\n",
            "None\n"
          ]
        }
      ],
      "source": [
        "#INCORRECT\n",
        "prompt = \"\"\"come back and take a slight left\"\"\"#incorrect\n",
        "print(ask_function_calling(prompt))"
      ]
    },
    {
      "cell_type": "code",
      "execution_count": 36,
      "metadata": {
        "id": "9jGuzxaYmUiC"
      },
      "outputs": [],
      "source": [
        "#####ANGULAR - ANGULAR####"
      ]
    },
    {
      "cell_type": "code",
      "execution_count": 74,
      "metadata": {
        "colab": {
          "base_uri": "https://localhost:8080/"
        },
        "id": "pRghqZyUmXkY",
        "outputId": "909580ae-c0b8-452d-a7c8-a480250387f5"
      },
      "outputs": [
        {
          "name": "stdout",
          "output_type": "stream",
          "text": [
            "{\n",
            "  \"role\": \"assistant\",\n",
            "  \"content\": null,\n",
            "  \"function_call\": {\n",
            "    \"name\": \"move_group\",\n",
            "    \"arguments\": \"{\\\"pitch\\\":{\\\"value\\\":0.5236,\\\"is_relative\\\":\\\"false\\\"},\\\"yaw\\\":{\\\"value\\\":1.745,\\\"is_relative\\\":\\\"true\\\"}}\"\n",
            "  }\n",
            "}\n",
            "move_group(pitch={'value': 0.5236, 'is_relative': 'false'}, yaw={'value': 1.745, 'is_relative': 'true'})\n",
            "None\n"
          ]
        }
      ],
      "source": [
        "#INCORRECT\n",
        "prompt = \"\"\"Tilt the manipulator arm forward by 30 degrees and turn right\"\"\"#incorrect\n",
        "print(ask_function_calling(prompt))"
      ]
    },
    {
      "cell_type": "code",
      "execution_count": 38,
      "metadata": {
        "colab": {
          "base_uri": "https://localhost:8080/"
        },
        "id": "Xw0tJ0x2mdPh",
        "outputId": "9526ac2b-24b7-435e-9f46-f2826f8a2b1d"
      },
      "outputs": [
        {
          "name": "stdout",
          "output_type": "stream",
          "text": [
            "{\n",
            "  \"role\": \"assistant\",\n",
            "  \"content\": null,\n",
            "  \"function_call\": {\n",
            "    \"name\": \"move_group\",\n",
            "    \"arguments\": \"{\\\"yaw\\\":{\\\"value\\\":-0.0872,\\\"is_relative\\\":\\\"true\\\"},\\\"roll\\\":{\\\"value\\\":0.1745,\\\"is_relative\\\":\\\"true\\\"}}\"\n",
            "  }\n",
            "}\n",
            "move_group(yaw={'value': -0.0872, 'is_relative': 'true'}, roll={'value': 0.1745, 'is_relative': 'true'})\n",
            "None\n"
          ]
        }
      ],
      "source": [
        "prompt = \"\"\"Turn left slightly and roll to the right\"\"\"#correct\n",
        "print(ask_function_calling(prompt))"
      ]
    },
    {
      "cell_type": "code",
      "execution_count": 39,
      "metadata": {
        "colab": {
          "base_uri": "https://localhost:8080/"
        },
        "id": "kAdYzsDwmjtI",
        "outputId": "e63f12d8-7a5d-4756-a93f-eedaa82eccbc"
      },
      "outputs": [
        {
          "name": "stdout",
          "output_type": "stream",
          "text": [
            "{\n",
            "  \"role\": \"assistant\",\n",
            "  \"content\": null,\n",
            "  \"function_call\": {\n",
            "    \"name\": \"move_group\",\n",
            "    \"arguments\": \"{\\\"roll\\\":{\\\"value\\\":0.0872,\\\"is_relative\\\":\\\"true\\\"},\\\"pitch\\\":{\\\"value\\\":-0.1745,\\\"is_relative\\\":\\\"true\\\"}}\"\n",
            "  }\n",
            "}\n",
            "move_group(roll={'value': 0.0872, 'is_relative': 'true'}, pitch={'value': -0.1745, 'is_relative': 'true'})\n",
            "None\n"
          ]
        }
      ],
      "source": [
        "prompt = \"\"\"roll slightly to the rigt and pitch downwards\"\"\"#incorrect\n",
        "print(ask_function_calling(prompt))"
      ]
    },
    {
      "cell_type": "code",
      "execution_count": 75,
      "metadata": {
        "colab": {
          "base_uri": "https://localhost:8080/"
        },
        "id": "HlHHp11MmvTL",
        "outputId": "9684289d-4bf8-4502-ec4c-7e7768e11386"
      },
      "outputs": [
        {
          "name": "stdout",
          "output_type": "stream",
          "text": [
            "{\n",
            "  \"role\": \"assistant\",\n",
            "  \"content\": null,\n",
            "  \"function_call\": {\n",
            "    \"name\": \"move_group\",\n",
            "    \"arguments\": \"{\\\"roll\\\":{\\\"value\\\":0.1745,\\\"is_relative\\\":\\\"false\\\"},\\\"yaw\\\":{\\\"value\\\":-0.0872,\\\"is_relative\\\":\\\"true\\\"}}\"\n",
            "  }\n",
            "}\n",
            "move_group(roll={'value': 0.1745, 'is_relative': 'false'}, yaw={'value': -0.0872, 'is_relative': 'true'})\n",
            "None\n"
          ]
        }
      ],
      "source": [
        "#INCORRECT\n",
        "prompt = \"\"\"tilt right by 10 degrees and yaw left\"\"\"#correct\n",
        "print(ask_function_calling(prompt))"
      ]
    },
    {
      "cell_type": "code",
      "execution_count": 41,
      "metadata": {
        "id": "sKsOITbSm086"
      },
      "outputs": [],
      "source": [
        "#####LINEAR - ANGULAR####"
      ]
    },
    {
      "cell_type": "code",
      "execution_count": 42,
      "metadata": {
        "colab": {
          "base_uri": "https://localhost:8080/"
        },
        "id": "vaUNbhxTm35A",
        "outputId": "b2b56b64-a3e2-4352-cec4-7a06dec01a07"
      },
      "outputs": [
        {
          "name": "stdout",
          "output_type": "stream",
          "text": [
            "{\n",
            "  \"role\": \"assistant\",\n",
            "  \"content\": null,\n",
            "  \"function_call\": {\n",
            "    \"name\": \"move_group\",\n",
            "    \"arguments\": \"{\\\"yaw\\\":{\\\"value\\\":1.745,\\\"is_relative\\\":\\\"true\\\"},\\\"x\\\":{\\\"value\\\":0.5,\\\"is_relative\\\":\\\"false\\\"}}\"\n",
            "  }\n",
            "}\n",
            "move_group(yaw={'value': 1.745, 'is_relative': 'true'}, x={'value': 0.5, 'is_relative': 'false'})\n",
            "None\n"
          ]
        }
      ],
      "source": [
        "prompt = \"\"\"Turn right and go to x=0.5\"\"\"#incorect\n",
        "print(ask_function_calling(prompt))"
      ]
    },
    {
      "cell_type": "code",
      "execution_count": 43,
      "metadata": {
        "colab": {
          "base_uri": "https://localhost:8080/"
        },
        "id": "BUWVd2zym9N8",
        "outputId": "f187b24e-1788-41c1-967f-c31e1551705d"
      },
      "outputs": [
        {
          "name": "stdout",
          "output_type": "stream",
          "text": [
            "{\n",
            "  \"role\": \"assistant\",\n",
            "  \"content\": null,\n",
            "  \"function_call\": {\n",
            "    \"name\": \"move_group\",\n",
            "    \"arguments\": \"{\\\"y\\\":{\\\"value\\\":0.1,\\\"is_relative\\\":\\\"true\\\"},\\\"x\\\":{\\\"value\\\":-0.1,\\\"is_relative\\\":\\\"true\\\"},\\\"yaw\\\":{\\\"value\\\":1.25664,\\\"is_relative\\\":\\\"true\\\"}}\"\n",
            "  }\n",
            "}\n",
            "move_group(y={'value': 0.1, 'is_relative': 'true'}, x={'value': -0.1, 'is_relative': 'true'}, yaw={'value': 1.25664, 'is_relative': 'true'})\n",
            "None\n"
          ]
        }
      ],
      "source": [
        "prompt = \"\"\"Move 0.1m front left with a relative yaw angle of 72 degrees \"\"\"#correct\n",
        "print(ask_function_calling(prompt))"
      ]
    },
    {
      "cell_type": "code",
      "execution_count": 76,
      "metadata": {
        "colab": {
          "base_uri": "https://localhost:8080/"
        },
        "id": "kBzUehlWnCb_",
        "outputId": "e614230b-59ac-4eec-abd6-4946764cdaf1"
      },
      "outputs": [
        {
          "name": "stdout",
          "output_type": "stream",
          "text": [
            "{\n",
            "  \"role\": \"assistant\",\n",
            "  \"content\": null,\n",
            "  \"function_call\": {\n",
            "    \"name\": \"move_group\",\n",
            "    \"arguments\": \"{\\\"y\\\":{\\\"value\\\":-0.1,\\\"is_relative\\\":\\\"true\\\"},\\\"x\\\":{\\\"value\\\":0.1,\\\"is_relative\\\":\\\"true\\\"},\\\"yaw\\\":{\\\"value\\\":1.25664,\\\"is_relative\\\":\\\"true\\\"}}\"\n",
            "  }\n",
            "}\n",
            "move_group(y={'value': -0.1, 'is_relative': 'true'}, x={'value': 0.1, 'is_relative': 'true'}, yaw={'value': 1.25664, 'is_relative': 'true'})\n",
            "None\n"
          ]
        }
      ],
      "source": [
        "#INCORRECT\n",
        "prompt = \"\"\"move 0.1m back-right with relative yaw angle of 72 degrees\"\"\"#incorrect\n",
        "print(ask_function_calling(prompt))"
      ]
    },
    {
      "cell_type": "code",
      "execution_count": 45,
      "metadata": {
        "colab": {
          "base_uri": "https://localhost:8080/"
        },
        "id": "F90aW8qFnH9J",
        "outputId": "e3e178cb-3330-4b61-c1c0-70985c678b7d"
      },
      "outputs": [
        {
          "name": "stdout",
          "output_type": "stream",
          "text": [
            "{\n",
            "  \"role\": \"assistant\",\n",
            "  \"content\": null,\n",
            "  \"function_call\": {\n",
            "    \"name\": \"move_group\",\n",
            "    \"arguments\": \"{\\\"z\\\":{\\\"value\\\":2,\\\"is_relative\\\":\\\"false\\\"},\\\"roll\\\":{\\\"value\\\":-0.1745,\\\"is_relative\\\":\\\"true\\\"}}\"\n",
            "  }\n",
            "}\n",
            "move_group(z={'value': 2, 'is_relative': 'false'}, roll={'value': -0.1745, 'is_relative': 'true'})\n",
            "None\n"
          ]
        }
      ],
      "source": [
        "prompt = \"\"\"move to z=2 and tilt left\"\"\"#correct\n",
        "print(ask_function_calling(prompt))"
      ]
    },
    {
      "cell_type": "code",
      "execution_count": 46,
      "metadata": {
        "colab": {
          "base_uri": "https://localhost:8080/"
        },
        "id": "vYfgunuRnTCU",
        "outputId": "2e493d09-f0b9-42d9-acd8-fe032daaab4e"
      },
      "outputs": [
        {
          "name": "stdout",
          "output_type": "stream",
          "text": [
            "{\n",
            "  \"role\": \"assistant\",\n",
            "  \"content\": null,\n",
            "  \"function_call\": {\n",
            "    \"name\": \"move_group\",\n",
            "    \"arguments\": \"{\\\"pitch\\\":{\\\"value\\\":0.0872,\\\"is_relative\\\":\\\"true\\\"},\\\"roll\\\":{\\\"value\\\":0.1745,\\\"is_relative\\\":\\\"false\\\"}}\"\n",
            "  }\n",
            "}\n",
            "move_group(pitch={'value': 0.0872, 'is_relative': 'true'}, roll={'value': 0.1745, 'is_relative': 'false'})\n",
            "None\n"
          ]
        }
      ],
      "source": [
        "prompt = \"\"\"tilt slightly front and roll=10\"\"\"#incorrect\n",
        "print(ask_function_calling(prompt))"
      ]
    },
    {
      "cell_type": "code",
      "execution_count": 47,
      "metadata": {
        "colab": {
          "base_uri": "https://localhost:8080/"
        },
        "id": "B20VxhbrnWg2",
        "outputId": "50160c52-7bc3-4f15-fbd3-c65893c8c952"
      },
      "outputs": [
        {
          "name": "stdout",
          "output_type": "stream",
          "text": [
            "{\n",
            "  \"role\": \"assistant\",\n",
            "  \"content\": null,\n",
            "  \"function_call\": {\n",
            "    \"name\": \"move_group\",\n",
            "    \"arguments\": \"{\\\"yaw\\\":{\\\"value\\\":-0.1745,\\\"is_relative\\\":\\\"true\\\"},\\\"z\\\":{\\\"value\\\":0.2,\\\"is_relative\\\":\\\"true\\\"}}\"\n",
            "  }\n",
            "}\n",
            "move_group(yaw={'value': -0.1745, 'is_relative': 'true'}, z={'value': 0.2, 'is_relative': 'true'})\n",
            "None\n"
          ]
        }
      ],
      "source": [
        "prompt = \"\"\"Yaw left and go up by 0.2m’\"\"\"#incorrect\n",
        "print(ask_function_calling(prompt))"
      ]
    },
    {
      "cell_type": "code",
      "execution_count": 48,
      "metadata": {
        "colab": {
          "base_uri": "https://localhost:8080/"
        },
        "id": "pnGbrtODpFnj",
        "outputId": "d23424d5-41cc-47ef-8ef0-3dff2fa46faf"
      },
      "outputs": [
        {
          "name": "stdout",
          "output_type": "stream",
          "text": [
            "{\n",
            "  \"role\": \"assistant\",\n",
            "  \"content\": null,\n",
            "  \"function_call\": {\n",
            "    \"name\": \"move_group\",\n",
            "    \"arguments\": \"{\\\"z\\\":{\\\"value\\\":-0.05,\\\"is_relative\\\":\\\"true\\\"},\\\"yaw\\\":{\\\"value\\\":0.1745,\\\"is_relative\\\":\\\"false\\\"}}\"\n",
            "  }\n",
            "}\n",
            "move_group(z={'value': -0.05, 'is_relative': 'true'}, yaw={'value': 0.1745, 'is_relative': 'false'})\n",
            "None\n"
          ]
        }
      ],
      "source": [
        "prompt = \"\"\"come down and yaw=10 degrees\"\"\"#incorrect\n",
        "print(ask_function_calling(prompt))"
      ]
    },
    {
      "cell_type": "code",
      "execution_count": null,
      "metadata": {
        "id": "ZRs4BMVopSSK"
      },
      "outputs": [],
      "source": []
    }
  ],
  "metadata": {
    "colab": {
      "provenance": []
    },
    "kernelspec": {
      "display_name": "Python 3",
      "name": "python3"
    },
    "language_info": {
      "codemirror_mode": {
        "name": "ipython",
        "version": 3
      },
      "file_extension": ".py",
      "mimetype": "text/x-python",
      "name": "python",
      "nbconvert_exporter": "python",
      "pygments_lexer": "ipython3",
      "version": "3.11.8"
    }
  },
  "nbformat": 4,
  "nbformat_minor": 0
}
